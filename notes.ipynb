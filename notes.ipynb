{
 "cells": [
  {
   "cell_type": "code",
   "execution_count": null,
   "metadata": {},
   "outputs": [],
   "source": [
    "import numpy as np\n",
    "import pandas as pd"
   ]
  },
  {
   "cell_type": "markdown",
   "metadata": {},
   "source": [
    "### Lambdas"
   ]
  },
  {
   "cell_type": "code",
   "execution_count": 18,
   "metadata": {},
   "outputs": [
    {
     "name": "stdout",
     "output_type": "stream",
     "text": [
      "Hello\n",
      "Hello World\n",
      "Good Morning!\n",
      "tomato\n",
      "not tomato\n"
     ]
    }
   ],
   "source": [
    "# The parentheses '()' at the end of a declared function call the function.  The same is true for Lambdas.\n",
    "# A lambda with no input. Called by empty parentheses.\n",
    "print((lambda  : 'Hello')())\n",
    "\n",
    "# A lambda with a single input that returns the input\n",
    "print((lambda  input : input)(\"Hello World\"))\n",
    "\n",
    "# Assigning a name to a lambda\n",
    "x = (lambda  input : input)\n",
    "# The variable x is now callable like a function\n",
    "print(x(\"Good Morning!\"))\n",
    "\n",
    "# Lambda as a binary output\n",
    "print((lambda word: 'tomato' if word == 'yes' else 'not tomato')('yes')) \n",
    "print((lambda word: 'tomato' if word == 'yes' else 'not tomato')('no'))\n"
   ]
  },
  {
   "cell_type": "code",
   "execution_count": 19,
   "metadata": {},
   "outputs": [
    {
     "ename": "SyntaxError",
     "evalue": "expected 'else' after 'if' expression (1455539738.py, line 2)",
     "output_type": "error",
     "traceback": [
      "\u001b[1;36m  Input \u001b[1;32mIn [19]\u001b[1;36m\u001b[0m\n\u001b[1;33m    print((lambda word: 'tomato' if word == 'yes')('no'))\u001b[0m\n\u001b[1;37m                        ^\u001b[0m\n\u001b[1;31mSyntaxError\u001b[0m\u001b[1;31m:\u001b[0m expected 'else' after 'if' expression\n"
     ]
    }
   ],
   "source": [
    "\n",
    "#if statement requires else\n",
    "print((lambda word: 'tomato' if word == 'yes')('no'))"
   ]
  },
  {
   "cell_type": "markdown",
   "metadata": {},
   "source": [
    "Syntax:\n",
    "`lambda` {inputs}`:` {outputs} {logic}"
   ]
  },
  {
   "cell_type": "markdown",
   "metadata": {},
   "source": [
    "### Useful Functions"
   ]
  },
  {
   "cell_type": "code",
   "execution_count": null,
   "metadata": {},
   "outputs": [],
   "source": [
    "# Return a float from a string representing a usd amount.\n",
    "def unstring_usd(str):\n",
    "    return float(str.replace('$','').replace(',',''))\n",
    "\n",
    "# Return a USD formatted string from a float.\n",
    "def as_currency(amount):\n",
    "    if amount >= 0:\n",
    "        return '${:,.2f}'.format(amount)\n",
    "    else:\n",
    "        return '-${:,.2f}'.format(-amount)"
   ]
  }
 ],
 "metadata": {
  "interpreter": {
   "hash": "37b4e1d782780d9803a775659fc8b81e9cc61a0899d4564192c1f7cc3c556e45"
  },
  "kernelspec": {
   "display_name": "Python 3.10.4 64-bit",
   "language": "python",
   "name": "python3"
  },
  "language_info": {
   "codemirror_mode": {
    "name": "ipython",
    "version": 3
   },
   "file_extension": ".py",
   "mimetype": "text/x-python",
   "name": "python",
   "nbconvert_exporter": "python",
   "pygments_lexer": "ipython3",
   "version": "3.10.4"
  },
  "orig_nbformat": 4
 },
 "nbformat": 4,
 "nbformat_minor": 2
}
