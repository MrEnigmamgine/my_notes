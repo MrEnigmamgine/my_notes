{
 "cells": [
  {
   "cell_type": "code",
   "execution_count": null,
   "metadata": {},
   "outputs": [],
   "source": [
    "import numpy as np\n",
    "import pandas as pd"
   ]
  },
  {
   "cell_type": "markdown",
   "metadata": {},
   "source": [
    "### Lambdas"
   ]
  },
  {
   "cell_type": "code",
   "execution_count": 18,
   "metadata": {},
   "outputs": [
    {
     "name": "stdout",
     "output_type": "stream",
     "text": [
      "Hello\n",
      "Hello World\n",
      "Good Morning!\n",
      "tomato\n",
      "not tomato\n"
     ]
    }
   ],
   "source": [
    "# The parentheses '()' at the end of a declared function call the function.  The same is true for Lambdas.\n",
    "# A lambda with no input. Called by empty parentheses.\n",
    "print((lambda  : 'Hello')())\n",
    "\n",
    "# A lambda with a single input that returns the input\n",
    "print((lambda  input : input)(\"Hello World\"))\n",
    "\n",
    "# Assigning a name to a lambda\n",
    "x = (lambda  input : input)\n",
    "# The variable x is now callable like a function\n",
    "print(x(\"Good Morning!\"))\n",
    "\n",
    "# Lambda as a binary output\n",
    "print((lambda word: 'tomato' if word == 'yes' else 'not tomato')('yes')) \n",
    "print((lambda word: 'tomato' if word == 'yes' else 'not tomato')('no'))\n"
   ]
  },
  {
   "cell_type": "code",
   "execution_count": 19,
   "metadata": {},
   "outputs": [
    {
     "ename": "SyntaxError",
     "evalue": "expected 'else' after 'if' expression (1455539738.py, line 2)",
     "output_type": "error",
     "traceback": [
      "\u001b[1;36m  Input \u001b[1;32mIn [19]\u001b[1;36m\u001b[0m\n\u001b[1;33m    print((lambda word: 'tomato' if word == 'yes')('no'))\u001b[0m\n\u001b[1;37m                        ^\u001b[0m\n\u001b[1;31mSyntaxError\u001b[0m\u001b[1;31m:\u001b[0m expected 'else' after 'if' expression\n"
     ]
    }
   ],
   "source": [
    "\n",
    "#if statement requires else\n",
    "print((lambda word: 'tomato' if word == 'yes')('no'))"
   ]
  },
  {
   "cell_type": "markdown",
   "metadata": {},
   "source": [
    "Syntax:\n",
    "`lambda` {inputs}`:` {outputs} {logic}"
   ]
  },
  {
   "cell_type": "markdown",
   "metadata": {},
   "source": [
    "### Useful Functions"
   ]
  },
  {
   "cell_type": "markdown",
   "metadata": {},
   "source": [
    "Manipulate USD strings"
   ]
  },
  {
   "cell_type": "code",
   "execution_count": null,
   "metadata": {},
   "outputs": [],
   "source": [
    "# Return a float from a string representing a usd amount.\n",
    "def unstring_usd(str):\n",
    "    return float(str.replace('$','').replace(',',''))\n",
    "\n",
    "# Return a USD formatted string from a float.\n",
    "def as_currency(amount):\n",
    "    if amount >= 0:\n",
    "        return '${:,.2f}'.format(amount)\n",
    "    else:\n",
    "        return '-${:,.2f}'.format(-amount)"
   ]
  },
  {
   "cell_type": "markdown",
   "metadata": {},
   "source": [
    "Get mysql url"
   ]
  },
  {
   "cell_type": "code",
   "execution_count": null,
   "metadata": {},
   "outputs": [],
   "source": [
    "'''  get_db_url()\n",
    "TODO: support multiple keys EG. user= OR username=\n",
    "\n",
    "Examples:\n",
    "# Using the env = argument\n",
    "\n",
    "get_db_url('employees',env='./env.py')\n",
    "\n",
    "# Using positional arguments\n",
    "\n",
    "from env import host, username, password\n",
    "get_db_url('employees',username,password,host)\n",
    "\n",
    "'''\n",
    "\n",
    "def get_db_url(database, username='', password='', hostname='', env=''):\n",
    "    if env != '':\n",
    "        d = {}\n",
    "        file = open(env)\n",
    "        for line in file:\n",
    "            (key, value) = line.split('=')\n",
    "            d[key] = value.replace('\\n', '').replace(\"'\",'').replace('\"','')\n",
    "        username = d['username']\n",
    "        hostname = d['hostname'] | d['host']\n",
    "        password = d['password']\n",
    "    url = f'mysql+pymysql://{username}:{password}@{hostname}/{database}'\n",
    "    return url\n",
    "\n",
    "print( get_db_url('employees',env='./env.py') )\n",
    "from env import host, username, password\n",
    "print( get_db_url('employees',username,password,host) )"
   ]
  }
 ],
 "metadata": {
  "interpreter": {
   "hash": "37b4e1d782780d9803a775659fc8b81e9cc61a0899d4564192c1f7cc3c556e45"
  },
  "kernelspec": {
   "display_name": "Python 3.10.4 64-bit",
   "language": "python",
   "name": "python3"
  },
  "language_info": {
   "codemirror_mode": {
    "name": "ipython",
    "version": 3
   },
   "file_extension": ".py",
   "mimetype": "text/x-python",
   "name": "python",
   "nbconvert_exporter": "python",
   "pygments_lexer": "ipython3",
   "version": "3.10.4"
  },
  "orig_nbformat": 4
 },
 "nbformat": 4,
 "nbformat_minor": 2
}
