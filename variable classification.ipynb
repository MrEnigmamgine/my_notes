{
 "cells": [
  {
   "cell_type": "markdown",
   "metadata": {},
   "source": [
    "## Nominal\n",
    "A nominal variable is one that has two or more categories, but there is no intrinsic ordering to the categories.\n",
    "![https://i.imgur.com/TW5m0aJ.png](https://i.imgur.com/TW5m0aJ.png)\n",
    "\n",
    "## Ordinal\n",
    "An ordinal variable is similar to a categorical variable.  The difference between the two is that there is a clear ordering of the categories.  For example, suppose you have a variable, economic status, with three categories (low, medium and high).\n",
    "![https://i.imgur.com/tEogUAr.png](https://i.imgur.com/tEogUAr.png)"
   ]
  },
  {
   "cell_type": "code",
   "execution_count": null,
   "metadata": {},
   "outputs": [],
   "source": []
  }
 ],
 "metadata": {
  "language_info": {
   "name": "python"
  },
  "orig_nbformat": 4
 },
 "nbformat": 4,
 "nbformat_minor": 2
}
