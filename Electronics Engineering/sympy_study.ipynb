{
 "cells": [
  {
   "cell_type": "code",
   "execution_count": 1,
   "metadata": {},
   "outputs": [],
   "source": [
    "import sympy\n",
    "from sympy import symbols"
   ]
  },
  {
   "cell_type": "code",
   "execution_count": 2,
   "metadata": {},
   "outputs": [
    {
     "data": {
      "text/latex": [
       "$\\displaystyle 2 \\sqrt{2}$"
      ],
      "text/plain": [
       "2*sqrt(2)"
      ]
     },
     "execution_count": 2,
     "metadata": {},
     "output_type": "execute_result"
    }
   ],
   "source": [
    "sympy.sqrt(8)"
   ]
  },
  {
   "cell_type": "code",
   "execution_count": 3,
   "metadata": {},
   "outputs": [
    {
     "data": {
      "text/latex": [
       "$\\displaystyle x + 2 y$"
      ],
      "text/plain": [
       "x + 2*y"
      ]
     },
     "execution_count": 3,
     "metadata": {},
     "output_type": "execute_result"
    }
   ],
   "source": [
    "x,y = symbols('x,y')\n",
    "expr = x+2*y\n",
    "expr"
   ]
  },
  {
   "cell_type": "code",
   "execution_count": 4,
   "metadata": {},
   "outputs": [
    {
     "data": {
      "text/latex": [
       "$\\displaystyle 2 y$"
      ],
      "text/plain": [
       "2*y"
      ]
     },
     "execution_count": 4,
     "metadata": {},
     "output_type": "execute_result"
    }
   ],
   "source": [
    "expr - x"
   ]
  },
  {
   "cell_type": "code",
   "execution_count": 5,
   "metadata": {},
   "outputs": [
    {
     "data": {
      "text/latex": [
       "$\\displaystyle \\left(x + 2 y\\right)^{2}$"
      ],
      "text/plain": [
       "(x + 2*y)**2"
      ]
     },
     "execution_count": 5,
     "metadata": {},
     "output_type": "execute_result"
    }
   ],
   "source": [
    "expr*expr"
   ]
  },
  {
   "cell_type": "code",
   "execution_count": 6,
   "metadata": {},
   "outputs": [
    {
     "data": {
      "text/latex": [
       "$\\displaystyle x^{2} + 4 x y + 4 y^{2}$"
      ],
      "text/plain": [
       "x**2 + 4*x*y + 4*y**2"
      ]
     },
     "execution_count": 6,
     "metadata": {},
     "output_type": "execute_result"
    }
   ],
   "source": [
    "sympy.expand(expr*expr)"
   ]
  },
  {
   "cell_type": "code",
   "execution_count": 7,
   "metadata": {},
   "outputs": [
    {
     "data": {
      "text/plain": [
       "[-x/2 + z/2]"
      ]
     },
     "execution_count": 7,
     "metadata": {},
     "output_type": "execute_result"
    }
   ],
   "source": [
    "z = symbols('z')\n",
    "sympy.solve(sympy.Eq(expr,z),y)"
   ]
  },
  {
   "cell_type": "markdown",
   "metadata": {},
   "source": [
    "## Some EET stuff"
   ]
  },
  {
   "cell_type": "code",
   "execution_count": 19,
   "metadata": {},
   "outputs": [],
   "source": [
    "pi, f, L, C, R, Xl,Xc,V,I = symbols('\\pi,f,L,C,R,Xl,Xc,V,I')"
   ]
  },
  {
   "cell_type": "code",
   "execution_count": 15,
   "metadata": {},
   "outputs": [
    {
     "data": {
      "text/latex": [
       "$\\displaystyle 2 L \\pi f$"
      ],
      "text/plain": [
       "2*L*\\pi*f"
      ]
     },
     "execution_count": 15,
     "metadata": {},
     "output_type": "execute_result"
    }
   ],
   "source": [
    "ind_reactance = 2*pi*f*L\n",
    "ind_reactance\n"
   ]
  },
  {
   "cell_type": "code",
   "execution_count": 16,
   "metadata": {},
   "outputs": [
    {
     "data": {
      "text/latex": [
       "$\\displaystyle \\frac{1}{2 C \\pi f}$"
      ],
      "text/plain": [
       "1/(2*C*\\pi*f)"
      ]
     },
     "execution_count": 16,
     "metadata": {},
     "output_type": "execute_result"
    }
   ],
   "source": [
    "cap_reactance = 1/(2*pi*f*C)\n",
    "cap_reactance"
   ]
  },
  {
   "cell_type": "code",
   "execution_count": 17,
   "metadata": {},
   "outputs": [
    {
     "data": {
      "text/latex": [
       "$\\displaystyle \\frac{\\sqrt{\\frac{1}{C L}}}{2 \\pi}$"
      ],
      "text/plain": [
       "sqrt(1/(C*L))/(2*\\pi)"
      ]
     },
     "execution_count": 17,
     "metadata": {},
     "output_type": "execute_result"
    }
   ],
   "source": [
    "resonant_freq = sympy.solve(sympy.Eq(ind_reactance,cap_reactance),[f])[1]\n",
    "resonant_freq"
   ]
  },
  {
   "cell_type": "code",
   "execution_count": 12,
   "metadata": {},
   "outputs": [],
   "source": [
    "Z = R + ind_reactance + cap_reactance\n"
   ]
  },
  {
   "cell_type": "code",
   "execution_count": 18,
   "metadata": {},
   "outputs": [
    {
     "data": {
      "text/latex": [
       "$\\displaystyle Xl = 2 L \\pi f$"
      ],
      "text/plain": [
       "Eq(Xl, 2*L*\\pi*f)"
      ]
     },
     "execution_count": 18,
     "metadata": {},
     "output_type": "execute_result"
    }
   ],
   "source": [
    "\n",
    "\n",
    "Xl_formula = sympy.Eq(Xl,ind_reactance)\n",
    "Xl_formula"
   ]
  },
  {
   "cell_type": "code",
   "execution_count": 20,
   "metadata": {},
   "outputs": [
    {
     "data": {
      "text/latex": [
       "$\\displaystyle I = \\frac{V}{2 L \\pi f + R + \\frac{1}{2 C \\pi f}}$"
      ],
      "text/plain": [
       "Eq(I, V/(2*L*\\pi*f + R + 1/(2*C*\\pi*f)))"
      ]
     },
     "execution_count": 20,
     "metadata": {},
     "output_type": "execute_result"
    }
   ],
   "source": [
    "ohms_law = sympy.Eq(I,V/Z)\n",
    "ohms_law"
   ]
  },
  {
   "cell_type": "code",
   "execution_count": 26,
   "metadata": {},
   "outputs": [
    {
     "data": {
      "text/latex": [
       "$\\displaystyle \\frac{- C I R + \\sqrt{2} C V - \\sqrt{C \\left(C I^{2} R^{2} - 2 \\sqrt{2} C I R V + 2 C V^{2} - 4 I^{2} L\\right)}}{4 C I L \\pi}$"
      ],
      "text/plain": [
       "(-C*I*R + sqrt(2)*C*V - sqrt(C*(C*I**2*R**2 - 2*sqrt(2)*C*I*R*V + 2*C*V**2 - 4*I**2*L)))/(4*C*I*L*\\pi)"
      ]
     },
     "execution_count": 26,
     "metadata": {},
     "output_type": "execute_result"
    }
   ],
   "source": [
    "left = ohms_law.subs(I,I/sympy.sqrt(2))\n",
    "sympy.solve(left,[f])[0]"
   ]
  },
  {
   "cell_type": "code",
   "execution_count": 27,
   "metadata": {},
   "outputs": [
    {
     "data": {
      "text/latex": [
       "$\\displaystyle \\frac{- C I R + \\sqrt{2} C V + \\sqrt{C \\left(C I^{2} R^{2} - 2 \\sqrt{2} C I R V + 2 C V^{2} - 4 I^{2} L\\right)}}{4 C I L \\pi}$"
      ],
      "text/plain": [
       "(-C*I*R + sqrt(2)*C*V + sqrt(C*(C*I**2*R**2 - 2*sqrt(2)*C*I*R*V + 2*C*V**2 - 4*I**2*L)))/(4*C*I*L*\\pi)"
      ]
     },
     "execution_count": 27,
     "metadata": {},
     "output_type": "execute_result"
    }
   ],
   "source": [
    "sympy.solve(left,[f])[1]"
   ]
  },
  {
   "cell_type": "code",
   "execution_count": 29,
   "metadata": {},
   "outputs": [
    {
     "data": {
      "text/latex": [
       "$\\displaystyle \\frac{C \\left(- 2 R - \\sqrt{2} + 2\\right) - \\sqrt{2} \\sqrt{C \\left(2 C R^{2} - 4 C R + 2 \\sqrt{2} C R - 2 \\sqrt{2} C + 3 C - 8 L\\right)}}{8 C L \\pi}$"
      ],
      "text/plain": [
       "(C*(-2*R - sqrt(2) + 2) - sqrt(2)*sqrt(C*(2*C*R**2 - 4*C*R + 2*sqrt(2)*C*R - 2*sqrt(2)*C + 3*C - 8*L)))/(8*C*L*\\pi)"
      ]
     },
     "execution_count": 29,
     "metadata": {},
     "output_type": "execute_result"
    }
   ],
   "source": [
    "left = sympy.Eq(Z,1-(1/sympy.sqrt(2)))\n",
    "sympy.solve(left,[f])[0]"
   ]
  }
 ],
 "metadata": {
  "kernelspec": {
   "display_name": "Python 3",
   "language": "python",
   "name": "python3"
  },
  "language_info": {
   "codemirror_mode": {
    "name": "ipython",
    "version": 3
   },
   "file_extension": ".py",
   "mimetype": "text/x-python",
   "name": "python",
   "nbconvert_exporter": "python",
   "pygments_lexer": "ipython3",
   "version": "3.10.8"
  }
 },
 "nbformat": 4,
 "nbformat_minor": 2
}
