{
 "cells": [
  {
   "cell_type": "code",
   "execution_count": 2,
   "metadata": {},
   "outputs": [],
   "source": [
    "import math\n",
    "from my_helpers import *\n",
    "import viz"
   ]
  },
  {
   "cell_type": "code",
   "execution_count": 3,
   "metadata": {},
   "outputs": [],
   "source": [
    "from matplotlib.ticker import EngFormatter\n",
    "engFormat = EngFormatter()"
   ]
  },
  {
   "cell_type": "code",
   "execution_count": 4,
   "metadata": {},
   "outputs": [],
   "source": [
    "L = 95.49*si.m\n",
    "C = 45.1*si.n\n",
    "Rw = 109\n"
   ]
  },
  {
   "cell_type": "code",
   "execution_count": 5,
   "metadata": {},
   "outputs": [
    {
     "data": {
      "text/plain": [
       "2425.229900770953"
      ]
     },
     "execution_count": 5,
     "metadata": {},
     "output_type": "execute_result"
    }
   ],
   "source": [
    "#Exact Fr = 2315 Hz\n",
    "get_resonant_frequency(L,C)\n",
    "\n",
    "## TODO\n",
    "## Impliment exact frequency"
   ]
  },
  {
   "cell_type": "code",
   "execution_count": 6,
   "metadata": {},
   "outputs": [],
   "source": [
    "Fr = 2315"
   ]
  },
  {
   "cell_type": "code",
   "execution_count": 7,
   "metadata": {},
   "outputs": [
    {
     "data": {
      "text/plain": [
       "[-5041.334909467701j,\n",
       " -3921.038262919323j,\n",
       " -3528.934436627391j,\n",
       " -1764.4672183136954j,\n",
       " -1524.3777264049204j,\n",
       " -1176.3114788757969j,\n",
       " -705.7868873254781j,\n",
       " -504.13349094677005j]"
      ]
     },
     "execution_count": 7,
     "metadata": {},
     "output_type": "execute_result"
    }
   ],
   "source": [
    "freqs = [\n",
    "    700,\n",
    "    900,\n",
    "    1000,\n",
    "    2000,\n",
    "    Fr,\n",
    "    3000,\n",
    "    5000,\n",
    "    7000\n",
    "]\n",
    "\n",
    "Xc_list = [get_capacitive_reactance(C,freq) for freq in freqs]\n",
    "Xc_list"
   ]
  },
  {
   "cell_type": "code",
   "execution_count": 8,
   "metadata": {},
   "outputs": [
    {
     "name": "stdout",
     "output_type": "stream",
     "text": [
      "−5.04133 k\n",
      "−3.92104 k\n",
      "−3.52893 k\n",
      "−1.76447 k\n",
      "−1.52438 k\n",
      "−1.17631 k\n",
      "−705.787\n",
      "−504.133\n"
     ]
    }
   ],
   "source": [
    "for x in Xc_list:\n",
    "    print(engFormat(x.imag))"
   ]
  },
  {
   "cell_type": "code",
   "execution_count": 9,
   "metadata": {},
   "outputs": [
    {
     "data": {
      "text/plain": [
       "[419.986955487805j,\n",
       " 539.9832284843208j,\n",
       " 599.9813649825786j,\n",
       " 1199.9627299651572j,\n",
       " 1388.9568599346696j,\n",
       " 1799.944094947736j,\n",
       " 2999.906824912893j,\n",
       " 4199.869554878051j]"
      ]
     },
     "execution_count": 9,
     "metadata": {},
     "output_type": "execute_result"
    }
   ],
   "source": [
    "Xl_list = [get_inductive_reactance(L,freq) for freq in freqs]\n",
    "Xl_list"
   ]
  },
  {
   "cell_type": "code",
   "execution_count": 10,
   "metadata": {},
   "outputs": [
    {
     "name": "stdout",
     "output_type": "stream",
     "text": [
      "419.987\n",
      "539.983\n",
      "599.981\n",
      "1.19996 k\n",
      "1.38896 k\n",
      "1.79994 k\n",
      "2.99991 k\n",
      "4.19987 k\n"
     ]
    }
   ],
   "source": [
    "for x in Xl_list:\n",
    "    print(engFormat(x.imag))"
   ]
  },
  {
   "cell_type": "code",
   "execution_count": 11,
   "metadata": {},
   "outputs": [
    {
     "name": "stdout",
     "output_type": "stream",
     "text": [
      "(-0+458.1552658025498j)\n",
      "(-0+626.2231400133194j)\n",
      "(-0+722.8845421660237j)\n",
      "(-0+3750.714022515375j)\n",
      "(-0+15634.923593454163j)\n",
      "-3395.099687950716j\n",
      "-922.9224965667479j\n",
      "-572.9020859702546j\n"
     ]
    }
   ],
   "source": [
    "\n",
    "for i, Xl in enumerate(Xl_list):\n",
    "    print(recipsumrecip([Xl,Xc_list[i]]))"
   ]
  },
  {
   "cell_type": "code",
   "execution_count": 12,
   "metadata": {},
   "outputs": [],
   "source": [
    "Voltages_R = [\n",
    "    34.4*si.m,\n",
    "    26.3*si.m,\n",
    "    23.2*si.m,\n",
    "    6.31*si.m,\n",
    "    3.5*si.m,\n",
    "    2.9*si.m,\n",
    "    14.4*si.m,\n",
    "    23.8*si.m,\n",
    "]\n"
   ]
  },
  {
   "cell_type": "code",
   "execution_count": 13,
   "metadata": {},
   "outputs": [],
   "source": [
    "import matplotlib.pyplot as plt\n",
    "from matplotlib.ticker import EngFormatter"
   ]
  },
  {
   "cell_type": "code",
   "execution_count": 16,
   "metadata": {},
   "outputs": [
    {
     "data": {
      "image/png": "[encoded data removed]",
      "text/plain": [
       "<Figure size 640x480 with 1 Axes>"
      ]
     },
     "metadata": {},
     "output_type": "display_data"
    }
   ],
   "source": [
    "fig = plt.figure()\n",
    "ax = plt.gca()\n",
    "ax.plot(freqs,Voltages_R)\n",
    "ax.xaxis.set_major_formatter(EngFormatter(unit='Hz'))\n",
    "ax.yaxis.set_major_formatter(EngFormatter(unit='A'))"
   ]
  },
  {
   "cell_type": "code",
   "execution_count": 15,
   "metadata": {},
   "outputs": [
    {
     "data": {
      "text/plain": [
       "2425.1726281978895"
      ]
     },
     "execution_count": 15,
     "metadata": {},
     "output_type": "execute_result"
    }
   ],
   "source": [
    "def get_exact_resonant_frequency(L,C,Rw):\n",
    "    # Denominator is the same as the inexact formula\n",
    "    res_freq = get_resonant_frequency(L,C)\n",
    "    # A fancy numerater accounts for winding resistance\n",
    "    numerator = math.sqrt(1-Rw**2*(C/L))\n",
    "    exact_freq = numerator*res_freq\n",
    "    return exact_freq\n",
    "\n",
    "get_exact_resonant_frequency(L,C,10)   "
   ]
  }
 ],
 "metadata": {
  "kernelspec": {
   "display_name": "Python 3",
   "language": "python",
   "name": "python3"
  },
  "language_info": {
   "codemirror_mode": {
    "name": "ipython",
    "version": 3
   },
   "file_extension": ".py",
   "mimetype": "text/x-python",
   "name": "python",
   "nbconvert_exporter": "python",
   "pygments_lexer": "ipython3",
   "version": "3.10.13"
  }
 },
 "nbformat": 4,
 "nbformat_minor": 2
}
