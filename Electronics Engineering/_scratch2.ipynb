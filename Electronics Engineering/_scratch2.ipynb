{
 "cells": [
  {
   "cell_type": "code",
   "execution_count": 13,
   "metadata": {},
   "outputs": [],
   "source": [
    "import math\n",
    "import cmath"
   ]
  },
  {
   "cell_type": "code",
   "execution_count": 14,
   "metadata": {},
   "outputs": [],
   "source": [
    "from matplotlib.ticker import EngFormatter\n",
    "engFormat = EngFormatter()"
   ]
  },
  {
   "cell_type": "code",
   "execution_count": 15,
   "metadata": {},
   "outputs": [],
   "source": [
    "class si :\n",
    "    \"\"\"\n",
    "    This is a simple class that provides an easy way to access the engineering prefixes for the metric system.\n",
    "    Example:\n",
    "        25*si.k results in 25_000\n",
    "    \"\"\"\n",
    "    Y = 10**24  # Yotta\n",
    "    Z = 10**21  # Zetta\n",
    "    E = 10**18  # Exa\n",
    "    P = 10**15  # Peta\n",
    "    T = 10**12  # Tera\n",
    "    G = 10**9   # Giga\n",
    "    M = 10**6   # Mega\n",
    "    k = 10**3   # kilo\n",
    "\n",
    "    m = 10**-3  # milli\n",
    "    u = 10**-6  # micro\n",
    "    µ = 10**-6  # micro\n",
    "    n = 10**-9  # nano\n",
    "    p = 10**-12 # pico\n",
    "    f = 10**-15 # femto\n",
    "    a = 10**-18 # atto\n",
    "    z = 10**-21 # zepto\n",
    "    y = 10**-24 # yocto\n"
   ]
  },
  {
   "cell_type": "code",
   "execution_count": 16,
   "metadata": {},
   "outputs": [],
   "source": [
    "def get_inductive_reactance(inductance,frequency):\n",
    "    \"\"\"\n",
    "    Returns a complex number representing the impedance vector of an inductive reactance.\n",
    "    Variables:\n",
    "      inductance: The inductance measured in Hernies\n",
    "      frequency: The frequency measured in Hertz\n",
    "    \"\"\"\n",
    "    period = 2*math.pi\n",
    "    omega = period*frequency\n",
    "    Xl = omega*inductance\n",
    "    return complex(0,Xl)\n",
    "\n",
    "def get_capacitive_reactance(capacitance,frequency):\n",
    "    \"\"\"\n",
    "    Returns a complex number representing the impedance vector of an capacitive reactance.\n",
    "    Variables:\n",
    "      capacitance: The capacitance measured in Farads\n",
    "      frequency: The frequency measured in Hertz\n",
    "    \"\"\"\n",
    "    period = 2*math.pi\n",
    "    omega = period*frequency\n",
    "    Xc = 1/(omega*capacitance)\n",
    "    return complex(0,-Xc)"
   ]
  },
  {
   "cell_type": "markdown",
   "metadata": {},
   "source": [
    "# 4.2 Review"
   ]
  },
  {
   "cell_type": "markdown",
   "metadata": {},
   "source": [
    "## 1\n",
    "Find Z in an RLC circuit"
   ]
  },
  {
   "cell_type": "code",
   "execution_count": 29,
   "metadata": {},
   "outputs": [],
   "source": [
    "# Given\n",
    "V = 20+0j\n",
    "f = 23*si.k\n",
    "R = 200\n",
    "L = 1.6*si.m\n",
    "C = 18*si.n\n",
    "\n",
    "#Components are in series."
   ]
  },
  {
   "cell_type": "code",
   "execution_count": 30,
   "metadata": {},
   "outputs": [
    {
     "data": {
      "text/plain": [
       "(200-153.21101038635956j)"
      ]
     },
     "execution_count": 30,
     "metadata": {},
     "output_type": "execute_result"
    }
   ],
   "source": [
    "Xl = get_inductive_reactance(L,f)\n",
    "Xc = get_capacitive_reactance(C,f)\n",
    "Z = R+Xl+Xc\n",
    "Z"
   ]
  },
  {
   "cell_type": "code",
   "execution_count": 31,
   "metadata": {},
   "outputs": [
    {
     "data": {
      "text/plain": [
       "(251.93970251552093, -37.454102609701515)"
      ]
     },
     "execution_count": 31,
     "metadata": {},
     "output_type": "execute_result"
    }
   ],
   "source": [
    "# Find the magnitude and phase angle for the impedance in Ohms (Ω) and degrees (°).\n",
    "def polar_format(complex_number):\n",
    "    magnitude, radians = cmath.polar(complex_number)\n",
    "    degrees = math.degrees(radians)\n",
    "    return (magnitude,degrees)\n",
    "\n",
    "polar_format(Z)"
   ]
  },
  {
   "cell_type": "code",
   "execution_count": 32,
   "metadata": {},
   "outputs": [
    {
     "data": {
      "text/plain": [
       "(0.07938407404751097, 37.454102609701515)"
      ]
     },
     "execution_count": 32,
     "metadata": {},
     "output_type": "execute_result"
    }
   ],
   "source": [
    "# Also, find the circuit current in polar coordinates.\n",
    "I = V/Z\n",
    "polar_format(I)"
   ]
  },
  {
   "cell_type": "markdown",
   "metadata": {},
   "source": [
    "## 2"
   ]
  },
  {
   "cell_type": "code",
   "execution_count": 33,
   "metadata": {},
   "outputs": [],
   "source": [
    "# What is the Impedance for the following circuit in both rectangular and polar coordinates?\n",
    "# Given:\n",
    "\n",
    "R = 220\n",
    "L= 10*si.m\n",
    "C = 0.02*si.u\n",
    "f = 10*si.k\n",
    "# RLC are in parallel"
   ]
  },
  {
   "cell_type": "code",
   "execution_count": 35,
   "metadata": {},
   "outputs": [
    {
     "data": {
      "text/plain": [
       "(628.3185307179587j, -795.7747154594767j)"
      ]
     },
     "execution_count": 35,
     "metadata": {},
     "output_type": "execute_result"
    }
   ],
   "source": [
    "Xl = get_inductive_reactance(L,f)\n",
    "Xc = get_capacitive_reactance(C,f)\n",
    "Xl,Xc"
   ]
  },
  {
   "cell_type": "code",
   "execution_count": 43,
   "metadata": {},
   "outputs": [
    {
     "data": {
      "text/plain": [
       "(219.40524716894063, 4.2139796835246965)"
      ]
     },
     "execution_count": 43,
     "metadata": {},
     "output_type": "execute_result"
    }
   ],
   "source": [
    "def recipsumrecip(data):\n",
    "    \"\"\"Returns the reciprocal of the sum of reciprocals.\"\"\"\n",
    "    denom = 0\n",
    "    for n in data:\n",
    "        denom += 1/n\n",
    "    return 1/denom\n",
    "\n",
    "Z= recipsumrecip([R,Xc,Xl])\n",
    "polar_format(Z)"
   ]
  },
  {
   "cell_type": "code",
   "execution_count": 47,
   "metadata": {},
   "outputs": [
    {
     "data": {
      "text/plain": [
       "(218.8121022057451, 16.12223351668388)"
      ]
     },
     "execution_count": 47,
     "metadata": {},
     "output_type": "execute_result"
    }
   ],
   "source": [
    "Z.real, Z.imag"
   ]
  },
  {
   "cell_type": "markdown",
   "metadata": {},
   "source": [
    "## 3"
   ]
  },
  {
   "cell_type": "code",
   "execution_count": 81,
   "metadata": {},
   "outputs": [],
   "source": [
    "# What is the Impedance for the following circuit in both rectangular and polar coordinates?\n",
    "# Given:\n",
    "\n",
    "R1 = 1.1*si.k\n",
    "R2 = 1.6*si.k\n",
    "Xl = 510*1j\n",
    "Xc = 820*-1j\n",
    "\n",
    "# (R1+Xl)+(R2||Xc)"
   ]
  },
  {
   "cell_type": "code",
   "execution_count": 82,
   "metadata": {},
   "outputs": [
    {
     "data": {
      "text/plain": [
       "(332.830095285237-649.424576166316j)"
      ]
     },
     "execution_count": 82,
     "metadata": {},
     "output_type": "execute_result"
    }
   ],
   "source": [
    "recipsumrecip([Xc,R2])"
   ]
  },
  {
   "cell_type": "code",
   "execution_count": 84,
   "metadata": {},
   "outputs": [
    {
     "data": {
      "text/plain": [
       "((1432.830095285237-139.424576166316j),\n",
       " (1439.5976154447665, -5.557789973918739))"
      ]
     },
     "execution_count": 84,
     "metadata": {},
     "output_type": "execute_result"
    }
   ],
   "source": [
    "Z = R1+Xl+recipsumrecip([R2,Xc])\n",
    "Z, polar_format(Z)"
   ]
  },
  {
   "cell_type": "markdown",
   "metadata": {},
   "source": [
    "## 4"
   ]
  },
  {
   "cell_type": "code",
   "execution_count": 85,
   "metadata": {},
   "outputs": [
    {
     "data": {
      "text/plain": [
       "((10+29j), (30.675723300355934, 70.97439396243132))"
      ]
     },
     "execution_count": 85,
     "metadata": {},
     "output_type": "execute_result"
    }
   ],
   "source": [
    "R = 10\n",
    "Xl = 62j\n",
    "Xc = -33j\n",
    "\n",
    "Z = R+Xl+Xc\n",
    "Z, polar_format(Z)"
   ]
  },
  {
   "cell_type": "markdown",
   "metadata": {},
   "source": [
    "## 5"
   ]
  },
  {
   "cell_type": "markdown",
   "metadata": {},
   "source": [
    "Resonance"
   ]
  }
 ],
 "metadata": {
  "kernelspec": {
   "display_name": "Python 3",
   "language": "python",
   "name": "python3"
  },
  "language_info": {
   "codemirror_mode": {
    "name": "ipython",
    "version": 3
   },
   "file_extension": ".py",
   "mimetype": "text/x-python",
   "name": "python",
   "nbconvert_exporter": "python",
   "pygments_lexer": "ipython3",
   "version": "3.10.8"
  }
 },
 "nbformat": 4,
 "nbformat_minor": 2
}
