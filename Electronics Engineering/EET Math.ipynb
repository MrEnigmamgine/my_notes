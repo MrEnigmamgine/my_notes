{
 "cells": [
  {
   "cell_type": "code",
   "execution_count": 49,
   "metadata": {},
   "outputs": [],
   "source": [
    "import math\n",
    "import cmath\n",
    "import statistics as stats\n",
    "import numpy as np\n",
    "import matplotlib.pyplot as plt\n",
    "from matplotlib.ticker import EngFormatter"
   ]
  },
  {
   "cell_type": "markdown",
   "metadata": {},
   "source": [
    "# Intro\n",
    "\n",
    "This notebook will cover the mathmatical formulae that I've learned so far.  I'll also try to implement each formula in python."
   ]
  },
  {
   "cell_type": "code",
   "execution_count": 50,
   "metadata": {},
   "outputs": [],
   "source": [
    "class si :\n",
    "    \"\"\"\n",
    "    This is a simple class that provides an easy way to access the engineering prefixes for the metric system.\n",
    "    Example:\n",
    "        25*si.k results in 25_000\n",
    "    \"\"\"\n",
    "    Y = 10**24  # Yotta\n",
    "    Z = 10**21  # Zetta\n",
    "    E = 10**18  # Exa\n",
    "    P = 10**15  # Peta\n",
    "    T = 10**12  # Tera\n",
    "    G = 10**9   # Giga\n",
    "    M = 10**6   # Mega\n",
    "    k = 10**3   # kilo\n",
    "\n",
    "    m = 10**-3  # milli\n",
    "    µ = 10**-6  # micro\n",
    "    u = 10**-6  # micro ## so that we can type u instead of µ\n",
    "    n = 10**-9  # nano\n",
    "    p = 10**-12 # pico\n",
    "    f = 10**-15 # femto\n",
    "    a = 10**-18 # atto\n",
    "    z = 10**-21 # zepto\n",
    "    y = 10**-24 # yocto\n"
   ]
  },
  {
   "cell_type": "markdown",
   "metadata": {},
   "source": [
    "These values can be made more legible by using Matplotlib's Engineering Formatter"
   ]
  },
  {
   "cell_type": "code",
   "execution_count": 51,
   "metadata": {},
   "outputs": [
    {
     "data": {
      "text/plain": [
       "'1 µ'"
      ]
     },
     "execution_count": 51,
     "metadata": {},
     "output_type": "execute_result"
    }
   ],
   "source": [
    "from matplotlib.ticker import EngFormatter\n",
    "engFormatter = EngFormatter()\n",
    "engFormatter(si.u)"
   ]
  },
  {
   "cell_type": "markdown",
   "metadata": {},
   "source": [
    "# Foundational Laws"
   ]
  },
  {
   "cell_type": "markdown",
   "metadata": {},
   "source": [
    "## Ohm's Law"
   ]
  },
  {
   "cell_type": "markdown",
   "metadata": {},
   "source": [
    "$$\n",
    "V = IR\n",
    "$$"
   ]
  },
  {
   "cell_type": "markdown",
   "metadata": {},
   "source": [
    "## Watt's Law"
   ]
  },
  {
   "cell_type": "markdown",
   "metadata": {},
   "source": [
    "$$\n",
    "P = IV\n",
    "$$"
   ]
  },
  {
   "cell_type": "markdown",
   "metadata": {},
   "source": [
    "# Resistors"
   ]
  },
  {
   "cell_type": "markdown",
   "metadata": {},
   "source": [
    "## Summative Properties"
   ]
  },
  {
   "cell_type": "code",
   "execution_count": 52,
   "metadata": {},
   "outputs": [],
   "source": [
    "# Setting up some values to play with\n",
    "val_1 = 300\n",
    "val_2 = 300\n",
    "val_3 = 300\n",
    "\n",
    "values = [val_1,val_2,val_3]"
   ]
  },
  {
   "cell_type": "markdown",
   "metadata": {},
   "source": [
    "### Series Resistance\n",
    "$$\n",
    "R_t = \\sum_{i=1}^{n}R_i\n",
    "$$\n",
    "\n",
    "This can be pretty easily handled by the builtin `sum` function, which takes an iterable as input."
   ]
  },
  {
   "cell_type": "code",
   "execution_count": 53,
   "metadata": {},
   "outputs": [
    {
     "data": {
      "text/plain": [
       "900"
      ]
     },
     "execution_count": 53,
     "metadata": {},
     "output_type": "execute_result"
    }
   ],
   "source": [
    "sum(values)"
   ]
  },
  {
   "cell_type": "markdown",
   "metadata": {},
   "source": [
    "### Parallel Resistance\n",
    "\n",
    "$$\n",
    "{R_{t}} = \\left({\\sum\\limits_{i=1}^{n} \\frac{1}{R_{i}}}\\right)^{-1}\n",
    "$$"
   ]
  },
  {
   "cell_type": "code",
   "execution_count": 54,
   "metadata": {},
   "outputs": [
    {
     "data": {
      "text/plain": [
       "100.0"
      ]
     },
     "execution_count": 54,
     "metadata": {},
     "output_type": "execute_result"
    }
   ],
   "source": [
    "def recipsumrecip(data):\n",
    "    denom = 0\n",
    "    for n in data:\n",
    "        denom += 1/n\n",
    "    return 1/denom\n",
    "\n",
    "recipsumrecip(values)"
   ]
  },
  {
   "cell_type": "markdown",
   "metadata": {},
   "source": [
    "This works because the harmonic mean is very similar to the above formula, but instead of 1 being the numerator the harmonic mean instead $n$ is the numerator. Dividing by $n$ sets the numerator to 1.\n",
    "\n",
    "$$\n",
    "H =\\frac{n}{ \\sum\\limits_{i=1}^{n} \\frac{1}{X_{i}} }\n",
    "$$"
   ]
  },
  {
   "cell_type": "markdown",
   "metadata": {},
   "source": [
    "# Inductors"
   ]
  },
  {
   "cell_type": "markdown",
   "metadata": {},
   "source": [
    "## Summative Properties"
   ]
  },
  {
   "cell_type": "markdown",
   "metadata": {},
   "source": [
    "The total inductance of an inductor uses the same summative properties as a resistor.\n",
    "##### In Series\n",
    "Similar to [[Series Resistance Formula]]:\n",
    "$$\n",
    "L_t = \\sum_{i=1}^{n}L_i\n",
    "$$\n",
    "##### In Parallel\n",
    "Similar to [[Parallel Resistance Formula]]\n",
    "$$\n",
    "{L_{t}} = \\left({\\sum\\limits_{i=1}^{n} \\frac{1}{L_{i}}}\\right)^{-1}\n",
    "$$\n"
   ]
  },
  {
   "cell_type": "markdown",
   "metadata": {},
   "source": [
    "## Inductive Reactance"
   ]
  },
  {
   "cell_type": "markdown",
   "metadata": {},
   "source": [
    "Inductors resist change in current. How much they resist that current dependtant of the rate of change in current, and is measured in Ohms (Ω).\n",
    "$$\n",
    "\\varepsilon = -L\\frac{di}{dt}\n",
    "$$\n",
    "\n",
    "However, in sine-wave AC circuits, the rate of change can be substituded $2\\pi f$\n",
    "\n",
    "$$\n",
    "X_L = \\varepsilon = -L 2\\pi f\n",
    "$$"
   ]
  },
  {
   "cell_type": "code",
   "execution_count": 55,
   "metadata": {},
   "outputs": [
    {
     "data": {
      "text/plain": [
       "6283.185307179586j"
      ]
     },
     "execution_count": 55,
     "metadata": {},
     "output_type": "execute_result"
    }
   ],
   "source": [
    "def get_inductive_reactance(inductance,frequency):\n",
    "    \"\"\"\n",
    "    Returns a complex number representing the impedance vector of an inductive reactance.\n",
    "    Variables:\n",
    "      inductance: The inductance measured in Hernies\n",
    "      frequency: The frequency measured in Hertz\n",
    "    \"\"\"\n",
    "    period = 2*math.pi\n",
    "    omega = period*frequency\n",
    "    Xl = omega*inductance\n",
    "    return complex(0,Xl)\n",
    "\n",
    "get_inductive_reactance(1,1*si.k)"
   ]
  },
  {
   "cell_type": "markdown",
   "metadata": {},
   "source": [
    "# Capacitors"
   ]
  },
  {
   "cell_type": "markdown",
   "metadata": {},
   "source": [
    "## Summative Properties"
   ]
  },
  {
   "cell_type": "markdown",
   "metadata": {},
   "source": [
    "\n",
    "#### In series\n",
    "Similar to [[Parallel Resistance Formula]]\n",
    "$$\n",
    "{C_{t}} = \\left({\\sum\\limits_{i=1}^{n} \\frac{1}{C_{i}}}\\right)^{-1}\n",
    "$$\n",
    "#### In parallel\n",
    "Similar to [[Series Resistance Formula]]\n",
    "$$\n",
    "C_t = \\sum_{i=1}^{n}C_i\n",
    "$$\n",
    "\n"
   ]
  },
  {
   "cell_type": "markdown",
   "metadata": {},
   "source": [
    "## Capactive Reactance"
   ]
  },
  {
   "cell_type": "markdown",
   "metadata": {},
   "source": [
    "Similar to inductors, capacitors also exhibit a reactance. However, they become less reactive at higher frequencies.\n",
    "$$\n",
    "X_C = \\varepsilon = -\\frac{1}{C 2\\pi f}\n",
    "$$\n"
   ]
  },
  {
   "cell_type": "code",
   "execution_count": 56,
   "metadata": {},
   "outputs": [
    {
     "data": {
      "text/plain": [
       "-159.15494309189535j"
      ]
     },
     "execution_count": 56,
     "metadata": {},
     "output_type": "execute_result"
    }
   ],
   "source": [
    "def get_capacitive_reactance(capacitance,frequency):\n",
    "    \"\"\"\n",
    "    Returns a complex number representing the impedance vector of an capacitive reactance.\n",
    "    Variables:\n",
    "      capacitance: The capacitance measured in Farads\n",
    "      frequency: The frequency measured in Hertz\n",
    "    \"\"\"\n",
    "    period = 2*math.pi\n",
    "    omega = period*frequency\n",
    "    Xc = 1/(omega*capacitance)\n",
    "    return complex(0,-Xc)\n",
    "\n",
    "get_capacitive_reactance(1*si.u,1*si.k)"
   ]
  }
 ],
 "metadata": {
  "kernelspec": {
   "display_name": "Python 3",
   "language": "python",
   "name": "python3"
  },
  "language_info": {
   "codemirror_mode": {
    "name": "ipython",
    "version": 3
   },
   "file_extension": ".py",
   "mimetype": "text/x-python",
   "name": "python",
   "nbconvert_exporter": "python",
   "pygments_lexer": "ipython3",
   "version": "3.10.8"
  }
 },
 "nbformat": 4,
 "nbformat_minor": 2
}
