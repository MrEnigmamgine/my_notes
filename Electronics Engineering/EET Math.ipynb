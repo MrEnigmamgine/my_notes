{
 "cells": [
  {
   "cell_type": "code",
   "execution_count": 99,
   "metadata": {},
   "outputs": [],
   "source": [
    "import math\n",
    "import cmath\n",
    "import statistics as stats\n",
    "import numpy as np\n",
    "import matplotlib.pyplot as plt\n",
    "from matplotlib.ticker import EngFormatter"
   ]
  },
  {
   "cell_type": "markdown",
   "metadata": {},
   "source": [
    "# Intro\n",
    "\n",
    "This notebook will cover the mathmatical formulae that I've learned so far.  I'll also try to implement each formula in python."
   ]
  },
  {
   "cell_type": "code",
   "execution_count": 100,
   "metadata": {},
   "outputs": [],
   "source": [
    "class si :\n",
    "    \"\"\"\n",
    "    This is a simple class that provides an easy way to access the engineering prefixes for the metric system.\n",
    "    Example:\n",
    "        25*si.k results in 25_000\n",
    "    \"\"\"\n",
    "    Y = 10**24  # Yotta\n",
    "    Z = 10**21  # Zetta\n",
    "    E = 10**18  # Exa\n",
    "    P = 10**15  # Peta\n",
    "    T = 10**12  # Tera\n",
    "    G = 10**9   # Giga\n",
    "    M = 10**6   # Mega\n",
    "    k = 10**3   # kilo\n",
    "\n",
    "    m = 10**-3  # milli\n",
    "    µ = 10**-6  # micro\n",
    "    u = 10**-6  # micro ## so that we can type u instead of µ\n",
    "    n = 10**-9  # nano\n",
    "    p = 10**-12 # pico\n",
    "    f = 10**-15 # femto\n",
    "    a = 10**-18 # atto\n",
    "    z = 10**-21 # zepto\n",
    "    y = 10**-24 # yocto\n"
   ]
  },
  {
   "cell_type": "markdown",
   "metadata": {},
   "source": [
    "These values can be made more legible by using Matplotlib's Engineering Formatter"
   ]
  },
  {
   "cell_type": "code",
   "execution_count": 101,
   "metadata": {},
   "outputs": [
    {
     "data": {
      "text/plain": [
       "'1 µ'"
      ]
     },
     "execution_count": 101,
     "metadata": {},
     "output_type": "execute_result"
    }
   ],
   "source": [
    "from matplotlib.ticker import EngFormatter\n",
    "engFormatter = EngFormatter()\n",
    "engFormatter(si.u)"
   ]
  },
  {
   "cell_type": "markdown",
   "metadata": {},
   "source": [
    "I'll ocassionally want to plot things using some functions I defined elsewhere"
   ]
  },
  {
   "cell_type": "code",
   "execution_count": 102,
   "metadata": {},
   "outputs": [],
   "source": [
    "import viz\n",
    "\n",
    "from my_helpers import vect_to_num,num_to_vect"
   ]
  },
  {
   "cell_type": "markdown",
   "metadata": {},
   "source": [
    "# Foundational Laws"
   ]
  },
  {
   "cell_type": "markdown",
   "metadata": {},
   "source": [
    "## Ohm's Law"
   ]
  },
  {
   "cell_type": "markdown",
   "metadata": {},
   "source": [
    "$$\n",
    "V = IR\n",
    "$$"
   ]
  },
  {
   "cell_type": "markdown",
   "metadata": {},
   "source": [
    "## Watt's Law"
   ]
  },
  {
   "cell_type": "markdown",
   "metadata": {},
   "source": [
    "$$\n",
    "P = IV\n",
    "$$"
   ]
  },
  {
   "cell_type": "markdown",
   "metadata": {},
   "source": [
    "# Resistors (R)"
   ]
  },
  {
   "cell_type": "markdown",
   "metadata": {},
   "source": [
    "## Summative Properties"
   ]
  },
  {
   "cell_type": "code",
   "execution_count": 103,
   "metadata": {},
   "outputs": [],
   "source": [
    "# Setting up some values to play with\n",
    "val_1 = 300\n",
    "val_2 = 300\n",
    "val_3 = 300\n",
    "\n",
    "values = [val_1,val_2,val_3]"
   ]
  },
  {
   "cell_type": "markdown",
   "metadata": {},
   "source": [
    "### Series Resistance\n",
    "$$\n",
    "R_t = \\sum_{i=1}^{n}R_i\n",
    "$$\n",
    "\n",
    "This can be pretty easily handled by the builtin `sum` function, which takes an iterable as input."
   ]
  },
  {
   "cell_type": "code",
   "execution_count": 104,
   "metadata": {},
   "outputs": [
    {
     "data": {
      "text/plain": [
       "900"
      ]
     },
     "execution_count": 104,
     "metadata": {},
     "output_type": "execute_result"
    }
   ],
   "source": [
    "sum(values)"
   ]
  },
  {
   "cell_type": "markdown",
   "metadata": {},
   "source": [
    "### Parallel Resistance\n",
    "\n",
    "$$\n",
    "{R_{t}} = \\left({\\sum\\limits_{i=1}^{n} \\frac{1}{R_{i}}}\\right)^{-1}\n",
    "$$"
   ]
  },
  {
   "cell_type": "code",
   "execution_count": 105,
   "metadata": {},
   "outputs": [
    {
     "data": {
      "text/plain": [
       "100.0"
      ]
     },
     "execution_count": 105,
     "metadata": {},
     "output_type": "execute_result"
    }
   ],
   "source": [
    "def recipsumrecip(data):\n",
    "    denom = 0\n",
    "    for n in data:\n",
    "        denom += 1/n\n",
    "    return 1/denom\n",
    "\n",
    "recipsumrecip(values)"
   ]
  },
  {
   "cell_type": "markdown",
   "metadata": {},
   "source": [
    "# Inductors (L)"
   ]
  },
  {
   "cell_type": "markdown",
   "metadata": {},
   "source": [
    "## Summative Properties"
   ]
  },
  {
   "cell_type": "markdown",
   "metadata": {},
   "source": [
    "The total inductance of an inductor uses the same summative properties as a resistor.\n",
    "##### In Series\n",
    "Similar to [[Series Resistance Formula]]:\n",
    "$$\n",
    "L_t = \\sum_{i=1}^{n}L_i\n",
    "$$\n",
    "##### In Parallel\n",
    "Similar to [[Parallel Resistance Formula]]\n",
    "$$\n",
    "{L_{t}} = \\left({\\sum\\limits_{i=1}^{n} \\frac{1}{L_{i}}}\\right)^{-1}\n",
    "$$\n"
   ]
  },
  {
   "cell_type": "markdown",
   "metadata": {},
   "source": [
    "## Inductive Reactance"
   ]
  },
  {
   "cell_type": "markdown",
   "metadata": {},
   "source": [
    "Inductors resist change in current. How much they resist that current dependtant of the rate of change in current, and is measured in Ohms (Ω).\n",
    "$$\n",
    "\\varepsilon = -L\\frac{di}{dt}\n",
    "$$\n",
    "\n",
    "However, in sine-wave AC circuits, the rate of change can be substituded $2\\pi f$\n",
    "\n",
    "$$\n",
    "X_L = \\varepsilon = L 2\\pi f\n",
    "$$"
   ]
  },
  {
   "cell_type": "code",
   "execution_count": 106,
   "metadata": {},
   "outputs": [
    {
     "name": "stdout",
     "output_type": "stream",
     "text": [
      "6.283185307179586j\n"
     ]
    }
   ],
   "source": [
    "def get_inductive_reactance(inductance,frequency):\n",
    "    \"\"\"\n",
    "    Returns a complex number representing the impedance vector of an inductive reactance.\n",
    "    Variables:\n",
    "      inductance: The inductance measured in Hernies\n",
    "      frequency: The frequency measured in Hertz\n",
    "    \"\"\"\n",
    "    period = 2*math.pi\n",
    "    omega = period*frequency\n",
    "    Xl = omega*inductance\n",
    "    return complex(0,Xl)\n",
    "\n",
    "Xl =get_inductive_reactance(1*si.m,1*si.k)\n",
    "print(Xl)"
   ]
  },
  {
   "cell_type": "markdown",
   "metadata": {},
   "source": [
    "### As a vector\n",
    "Inductive reactance is conventionally said to be in the \"positive j\" direction, or 90°."
   ]
  },
  {
   "cell_type": "code",
   "execution_count": 107,
   "metadata": {},
   "outputs": [
    {
     "data": {
      "text/plain": [
       "(<Figure size 640x480 with 1 Axes>, <AxesSubplot:>)"
      ]
     },
     "execution_count": 107,
     "metadata": {},
     "output_type": "execute_result"
    },
    {
     "data": {
      "image/png": "[encoded data removed]",
      "text/plain": [
       "<Figure size 640x480 with 1 Axes>"
      ]
     },
     "metadata": {},
     "output_type": "display_data"
    }
   ],
   "source": [
    "viz.plot_vector_diagram([num_to_vect(Xl)])"
   ]
  },
  {
   "cell_type": "markdown",
   "metadata": {},
   "source": [
    "# Capacitors (C)"
   ]
  },
  {
   "cell_type": "markdown",
   "metadata": {},
   "source": [
    "## Summative Properties"
   ]
  },
  {
   "cell_type": "markdown",
   "metadata": {},
   "source": [
    "\n",
    "#### In series\n",
    "Similar to [[Parallel Resistance Formula]]\n",
    "$$\n",
    "{C_{t}} = \\left({\\sum\\limits_{i=1}^{n} \\frac{1}{C_{i}}}\\right)^{-1}\n",
    "$$\n",
    "#### In parallel\n",
    "Similar to [[Series Resistance Formula]]\n",
    "$$\n",
    "C_t = \\sum_{i=1}^{n}C_i\n",
    "$$\n",
    "\n"
   ]
  },
  {
   "cell_type": "markdown",
   "metadata": {},
   "source": [
    "## Capactive Reactance"
   ]
  },
  {
   "cell_type": "markdown",
   "metadata": {},
   "source": [
    "Similar to inductors, capacitors also exhibit a reactance. However, they become less reactive at higher frequencies.\n",
    "$$\n",
    "X_C = \\varepsilon = \\frac{1}{C 2\\pi f}\n",
    "$$\n"
   ]
  },
  {
   "cell_type": "code",
   "execution_count": 108,
   "metadata": {},
   "outputs": [
    {
     "name": "stdout",
     "output_type": "stream",
     "text": [
      "-159.15494309189535j\n"
     ]
    }
   ],
   "source": [
    "def get_capacitive_reactance(capacitance,frequency):\n",
    "    \"\"\"\n",
    "    Returns a complex number representing the impedance vector of an capacitive reactance.\n",
    "    Variables:\n",
    "      capacitance: The capacitance measured in Farads\n",
    "      frequency: The frequency measured in Hertz\n",
    "    \"\"\"\n",
    "    period = 2*math.pi\n",
    "    omega = period*frequency\n",
    "    Xc = 1/(omega*capacitance)\n",
    "    return complex(0,-Xc)\n",
    "\n",
    "Xc = get_capacitive_reactance(1*si.u,1*si.k)\n",
    "print(Xc)"
   ]
  },
  {
   "cell_type": "markdown",
   "metadata": {},
   "source": [
    "### As a vector\n",
    "Capacitive reactance is conventionally said to be in the \"negative j\" direction, or -90°."
   ]
  },
  {
   "cell_type": "code",
   "execution_count": 109,
   "metadata": {},
   "outputs": [
    {
     "data": {
      "text/plain": [
       "(<Figure size 640x480 with 1 Axes>, <AxesSubplot:>)"
      ]
     },
     "execution_count": 109,
     "metadata": {},
     "output_type": "execute_result"
    },
    {
     "data": {
      "image/png": "[encoded data removed]",
      "text/plain": [
       "<Figure size 640x480 with 1 Axes>"
      ]
     },
     "metadata": {},
     "output_type": "display_data"
    }
   ],
   "source": [
    "viz.plot_vector_diagram([num_to_vect(Xc)])"
   ]
  },
  {
   "cell_type": "markdown",
   "metadata": {},
   "source": [
    "# Inductive and Capacitive Resonance"
   ]
  },
  {
   "cell_type": "markdown",
   "metadata": {},
   "source": [
    "## Calculating resonant frequency\n",
    "Inductive and capacitive reactance are both functions of *frequency*. Because of the shape of their reactance curves, there is a frequency where their reactances will be equal."
   ]
  },
  {
   "cell_type": "code",
   "execution_count": 110,
   "metadata": {},
   "outputs": [
    {
     "data": {
      "image/png": "[encoded data removed]",
      "text/plain": [
       "<Figure size 640x480 with 1 Axes>"
      ]
     },
     "metadata": {},
     "output_type": "display_data"
    }
   ],
   "source": [
    "L = 100*si.m # 100 milliHenry inductor\n",
    "C = 100*si.µ # 100 microFarad capacitor\n",
    "#Generate a list of 100 frequencies.\n",
    "freqs = np.linspace(5,150,100)\n",
    "# Calculate the reactance for each frequency. \n",
    "ind_reactances = [abs(get_inductive_reactance(L,freq)) for freq in freqs]\n",
    "cap_reactances = [abs(get_capacitive_reactance(C,freq)) for freq in freqs]\n",
    "\n",
    "# Plot them\n",
    "fig, ax = plt.subplots()\n",
    "ax.plot(freqs,ind_reactances,label='Inductive Reactance')\n",
    "ax.plot(freqs,cap_reactances,label='Capacitive Reactance')\n",
    "ax.legend()\n",
    "plt.show()"
   ]
  },
  {
   "cell_type": "markdown",
   "metadata": {},
   "source": [
    "When this occurrs, the two components are at **resonant frequency**.  To find this frequency, we simply set the two reactance formulas equal to one another:\n",
    "$$\n",
    "L 2\\pi f = \\frac{1}{C 2\\pi f}\n",
    "$$\n",
    "\n",
    "Solving for $f$ yields:\n",
    "$$\n",
    " f = \\frac{1}{2\\pi \\sqrt{LC}}\n",
    "$$"
   ]
  },
  {
   "cell_type": "code",
   "execution_count": 111,
   "metadata": {},
   "outputs": [
    {
     "name": "stdout",
     "output_type": "stream",
     "text": [
      "50.329212104487034\n"
     ]
    }
   ],
   "source": [
    "def get_resonant_frequency(inductance,capacitance):\n",
    "    period = 2*math.pi\n",
    "    f = 1/(period*math.sqrt(inductance*capacitance))\n",
    "    return f\n",
    "\n",
    "resonant_frequency = get_resonant_frequency(C,L)\n",
    "print(resonant_frequency)"
   ]
  },
  {
   "cell_type": "code",
   "execution_count": 112,
   "metadata": {},
   "outputs": [
    {
     "data": {
      "image/png": "[encoded data removed]",
      "text/plain": [
       "<Figure size 640x480 with 1 Axes>"
      ]
     },
     "metadata": {},
     "output_type": "display_data"
    }
   ],
   "source": [
    "fig, ax = plt.subplots()\n",
    "ax.plot(freqs,ind_reactances,label='Inductive Reactance')\n",
    "ax.plot(freqs,cap_reactances,label='Capacitive Reactance')\n",
    "ax.axvline([resonant_frequency], label='Resonant Frequency', linestyle='--', color = 'red')\n",
    "ax.legend()\n",
    "plt.show()"
   ]
  },
  {
   "cell_type": "markdown",
   "metadata": {},
   "source": [
    "### Precise Resonant Frequency"
   ]
  },
  {
   "cell_type": "markdown",
   "metadata": {},
   "source": [
    "For most practical applications, the formula above is close enough. However, sometimes it's necessary to account for the winding resistance of the inductor:\n",
    "\n",
    "$$\n",
    " f_r = \\frac{\\sqrt{1-R^2_W C/L}}{2\\pi \\sqrt{LC}}\n",
    "$$"
   ]
  },
  {
   "cell_type": "code",
   "execution_count": 113,
   "metadata": {},
   "outputs": [],
   "source": [
    "def get_exact_resonant_frequency(Rwinding,inductance,capacitance):\n",
    "    # Denominator is the same as the inexact formula\n",
    "    res_freq = get_resonant_frequency(inductance,capacitance)\n",
    "    # A fancy numerater accounts for winding resistance\n",
    "    numerator = math.sqrt(1-Rwinding**2*(capacitance/inductance))\n",
    "    exact_freq = numerator*res_freq\n",
    "    return exact_freq"
   ]
  },
  {
   "cell_type": "markdown",
   "metadata": {},
   "source": [
    "# Passive Filters"
   ]
  },
  {
   "cell_type": "code",
   "execution_count": 114,
   "metadata": {},
   "outputs": [],
   "source": [
    "import schemdraw\n",
    "import schemdraw.elements as elm"
   ]
  },
  {
   "cell_type": "markdown",
   "metadata": {},
   "source": [
    "## Critical Frequency\n",
    "The critical frequency is the frequency at which the output voltage decreases by 3 dB."
   ]
  },
  {
   "cell_type": "markdown",
   "metadata": {},
   "source": [
    "I'm not sure I understand just yet, but the book is saying:\n",
    "\n",
    "$$\n",
    "dB = 10 \\log(\\frac{P_{out}}{P_{in}})\n",
    "$$\n",
    "$$\n",
    "dB = 20 \\log(\\frac{V_{out}}{V_{in}})\n",
    "$$\n",
    "\n",
    "The reason why one is 10x and the other is 20x has to do with the properties of logarithms and one of the formulas for power:\n",
    "$$\n",
    "P = V^2 R^{-1}\n",
    "$$"
   ]
  },
  {
   "cell_type": "markdown",
   "metadata": {},
   "source": [
    "## RC Low Pass Filter"
   ]
  },
  {
   "cell_type": "code",
   "execution_count": 115,
   "metadata": {},
   "outputs": [
    {
     "data": {
      "image/png": "[encoded data removed]",
      "image/svg+xml": [
       "<?xml version=\"1.0\" encoding=\"utf-8\" standalone=\"no\"?>\n",
       "<!DOCTYPE svg PUBLIC \"-//W3C//DTD SVG 1.1//EN\"\n",
       "  \"http://www.w3.org/Graphics/SVG/1.1/DTD/svg11.dtd\">\n",
       "<svg xmlns:xlink=\"http://www.w3.org/1999/xlink\" width=\"250.74pt\" height=\"169.939656pt\" viewBox=\"0 0 250.74 169.939656\" xmlns=\"http://www.w3.org/2000/svg\" version=\"1.1\">\n",
       " <metadata>\n",
       "  <rdf:RDF xmlns:dc=\"http://purl.org/dc/elements/1.1/\" xmlns:cc=\"http://creativecommons.org/ns#\" xmlns:rdf=\"http://www.w3.org/1999/02/22-rdf-syntax-ns#\">\n",
       "   <cc:Work>\n",
       "    <dc:type rdf:resource=\"http://purl.org/dc/dcmitype/StillImage\"/>\n",
       "    <dc:date>2024-01-15T18:35:51.106448</dc:date>\n",
       "    <dc:format>image/svg+xml</dc:format>\n",
       "    <dc:creator>\n",
       "     <cc:Agent>\n",
       "      <dc:title>Matplotlib v3.5.3, https://matplotlib.org/</dc:title>\n",
       "     </cc:Agent>\n",
       "    </dc:creator>\n",
       "   </cc:Work>\n",
       "  </rdf:RDF>\n",
       " </metadata>\n",
       " <defs>\n",
       "  <style type=\"text/css\">*{stroke-linejoin: round; stroke-linecap: butt}</style>\n",
       " </defs>\n",
       " <g id=\"figure_1\">\n",
       "  <g id=\"patch_1\">\n",
       "   <path d=\"M 0 169.939656 \n",
       "L 250.74 169.939656 \n",
       "L 250.74 0 \n",
       "L 0 0 \n",
       "z\n",
       "\" style=\"fill: #ffffff\"/>\n",
       "  </g>\n",
       "  <g id=\"axes_1\">\n",
       "   <g id=\"line2d_1\">\n",
       "    <path d=\"M 17.37 28.297656 \n",
       "L 53.37 28.297656 \n",
       "L 56.37 19.297656 \n",
       "L 62.37 37.297656 \n",
       "L 68.37 19.297656 \n",
       "L 74.37 37.297656 \n",
       "L 80.37 19.297656 \n",
       "L 86.37 37.297656 \n",
       "L 89.37 28.297656 \n",
       "L 125.37 28.297656 \n",
       "\" clip-path=\"url(#p6f9b25036a)\" style=\"fill: none; stroke: #000000; stroke-width: 2; stroke-linecap: round\"/>\n",
       "   </g>\n",
       "   <g id=\"line2d_2\">\n",
       "    <path d=\"M 125.37 28.297656 \n",
       "L 125.37 79.057656 \n",
       "M 134.37 79.057656 \n",
       "L 116.37 79.057656 \n",
       "M 134.37 85.537656 \n",
       "L 116.37 85.537656 \n",
       "M 125.37 85.537656 \n",
       "L 125.37 136.297656 \n",
       "\" clip-path=\"url(#p6f9b25036a)\" style=\"fill: none; stroke: #000000; stroke-width: 2; stroke-linecap: round\"/>\n",
       "   </g>\n",
       "   <g id=\"line2d_3\">\n",
       "    <path d=\"M 125.37 136.297656 \n",
       "L 125.37 150.697656 \n",
       "L 116.37 150.697656 \n",
       "L 134.37 150.697656 \n",
       "M 119.07 155.017656 \n",
       "L 131.67 155.017656 \n",
       "M 123.57 159.337656 \n",
       "L 127.17 159.337656 \n",
       "\" clip-path=\"url(#p6f9b25036a)\" style=\"fill: none; stroke: #000000; stroke-width: 2; stroke-linecap: round\"/>\n",
       "   </g>\n",
       "   <g id=\"line2d_4\">\n",
       "    <path d=\"M 125.37 28.297656 \n",
       "L 179.37 28.297656 \n",
       "L 233.37 28.297656 \n",
       "\" clip-path=\"url(#p6f9b25036a)\" style=\"fill: none; stroke: #000000; stroke-width: 2; stroke-linecap: round\"/>\n",
       "   </g>\n",
       "   <g id=\"patch_2\">\n",
       "    <path d=\"M 125.37 30.997656 \n",
       "C 126.086048 30.997656 126.772866 30.713167 127.279188 30.206845 \n",
       "C 127.785511 29.700522 128.07 29.013705 128.07 28.297656 \n",
       "C 128.07 27.581608 127.785511 26.894791 127.279188 26.388468 \n",
       "C 126.772866 25.882145 126.086048 25.597656 125.37 25.597656 \n",
       "C 124.653952 25.597656 123.967134 25.882145 123.460812 26.388468 \n",
       "C 122.954489 26.894791 122.67 27.581608 122.67 28.297656 \n",
       "C 122.67 29.013705 122.954489 29.700522 123.460812 30.206845 \n",
       "C 123.967134 30.713167 124.653952 30.997656 125.37 30.997656 \n",
       "z\n",
       "\" clip-path=\"url(#p6f9b25036a)\" style=\"stroke: #000000; stroke-width: 2; stroke-linejoin: miter\"/>\n",
       "   </g>\n",
       "   <g id=\"text_1\">\n",
       "    <!-- R -->\n",
       "    <g transform=\"translate(68.377227 13.098047)scale(0.125 -0.125)\">\n",
       "     <defs>\n",
       "      <path id=\"DejaVuSans-52\" d=\"M 2841 2188 \n",
       "Q 3044 2119 3236 1894 \n",
       "Q 3428 1669 3622 1275 \n",
       "L 4263 0 \n",
       "L 3584 0 \n",
       "L 2988 1197 \n",
       "Q 2756 1666 2539 1819 \n",
       "Q 2322 1972 1947 1972 \n",
       "L 1259 1972 \n",
       "L 1259 0 \n",
       "L 628 0 \n",
       "L 628 4666 \n",
       "L 2053 4666 \n",
       "Q 2853 4666 3247 4331 \n",
       "Q 3641 3997 3641 3322 \n",
       "Q 3641 2881 3436 2590 \n",
       "Q 3231 2300 2841 2188 \n",
       "z\n",
       "M 1259 4147 \n",
       "L 1259 2491 \n",
       "L 2053 2491 \n",
       "Q 2509 2491 2742 2702 \n",
       "Q 2975 2913 2975 3322 \n",
       "Q 2975 3731 2742 3939 \n",
       "Q 2509 4147 2053 4147 \n",
       "L 1259 4147 \n",
       "z\n",
       "\" transform=\"scale(0.015625)\"/>\n",
       "     </defs>\n",
       "     <use xlink:href=\"#DejaVuSans-52\"/>\n",
       "    </g>\n",
       "   </g>\n",
       "   <g id=\"text_2\">\n",
       "    <!-- C -->\n",
       "    <g transform=\"translate(104.041484 85.746875)scale(0.125 -0.125)\">\n",
       "     <defs>\n",
       "      <path id=\"DejaVuSans-43\" d=\"M 4122 4306 \n",
       "L 4122 3641 \n",
       "Q 3803 3938 3442 4084 \n",
       "Q 3081 4231 2675 4231 \n",
       "Q 1875 4231 1450 3742 \n",
       "Q 1025 3253 1025 2328 \n",
       "Q 1025 1406 1450 917 \n",
       "Q 1875 428 2675 428 \n",
       "Q 3081 428 3442 575 \n",
       "Q 3803 722 4122 1019 \n",
       "L 4122 359 \n",
       "Q 3791 134 3420 21 \n",
       "Q 3050 -91 2638 -91 \n",
       "Q 1578 -91 968 557 \n",
       "Q 359 1206 359 2328 \n",
       "Q 359 3453 968 4101 \n",
       "Q 1578 4750 2638 4750 \n",
       "Q 3056 4750 3426 4639 \n",
       "Q 3797 4528 4122 4306 \n",
       "z\n",
       "\" transform=\"scale(0.015625)\"/>\n",
       "     </defs>\n",
       "     <use xlink:href=\"#DejaVuSans-43\"/>\n",
       "    </g>\n",
       "   </g>\n",
       "   <g id=\"patch_3\">\n",
       "    <path d=\"M 17.37 30.997656 \n",
       "C 18.086048 30.997656 18.772866 30.713167 19.279188 30.206845 \n",
       "C 19.785511 29.700522 20.07 29.013705 20.07 28.297656 \n",
       "C 20.07 27.581608 19.785511 26.894791 19.279188 26.388468 \n",
       "C 18.772866 25.882145 18.086048 25.597656 17.37 25.597656 \n",
       "C 16.653952 25.597656 15.967134 25.882145 15.460812 26.388468 \n",
       "C 14.954489 26.894791 14.67 27.581608 14.67 28.297656 \n",
       "C 14.67 29.013705 14.954489 29.700522 15.460812 30.206845 \n",
       "C 15.967134 30.713167 16.653952 30.997656 17.37 30.997656 \n",
       "z\n",
       "\" clip-path=\"url(#p6f9b25036a)\" style=\"fill: #ffffff; stroke: #000000; stroke-width: 2; stroke-linejoin: miter\"/>\n",
       "   </g>\n",
       "   <g id=\"text_3\">\n",
       "    <!-- $V_{in}$ -->\n",
       "    <g transform=\"translate(8.9325 19.398047)scale(0.125 -0.125)\">\n",
       "     <defs>\n",
       "      <path id=\"DejaVuSans-Oblique-56\" d=\"M 1319 0 \n",
       "L 500 4666 \n",
       "L 1119 4666 \n",
       "L 1797 653 \n",
       "L 4063 4666 \n",
       "L 4750 4666 \n",
       "L 2053 0 \n",
       "L 1319 0 \n",
       "z\n",
       "\" transform=\"scale(0.015625)\"/>\n",
       "      <path id=\"DejaVuSans-Oblique-69\" d=\"M 1172 4863 \n",
       "L 1747 4863 \n",
       "L 1606 4134 \n",
       "L 1031 4134 \n",
       "L 1172 4863 \n",
       "z\n",
       "M 909 3500 \n",
       "L 1484 3500 \n",
       "L 800 0 \n",
       "L 225 0 \n",
       "L 909 3500 \n",
       "z\n",
       "\" transform=\"scale(0.015625)\"/>\n",
       "      <path id=\"DejaVuSans-Oblique-6e\" d=\"M 3566 2113 \n",
       "L 3156 0 \n",
       "L 2578 0 \n",
       "L 2988 2091 \n",
       "Q 3016 2238 3031 2350 \n",
       "Q 3047 2463 3047 2528 \n",
       "Q 3047 2791 2881 2937 \n",
       "Q 2716 3084 2419 3084 \n",
       "Q 1956 3084 1622 2776 \n",
       "Q 1288 2469 1184 1941 \n",
       "L 800 0 \n",
       "L 225 0 \n",
       "L 903 3500 \n",
       "L 1478 3500 \n",
       "L 1363 2950 \n",
       "Q 1603 3253 1940 3418 \n",
       "Q 2278 3584 2650 3584 \n",
       "Q 3113 3584 3367 3334 \n",
       "Q 3622 3084 3622 2631 \n",
       "Q 3622 2519 3608 2391 \n",
       "Q 3594 2263 3566 2113 \n",
       "z\n",
       "\" transform=\"scale(0.015625)\"/>\n",
       "     </defs>\n",
       "     <use xlink:href=\"#DejaVuSans-Oblique-56\" transform=\"translate(0 0.09375)\"/>\n",
       "     <use xlink:href=\"#DejaVuSans-Oblique-69\" transform=\"translate(68.408203 -16.3125)scale(0.7)\"/>\n",
       "     <use xlink:href=\"#DejaVuSans-Oblique-6e\" transform=\"translate(87.856445 -16.3125)scale(0.7)\"/>\n",
       "    </g>\n",
       "   </g>\n",
       "   <g id=\"patch_4\">\n",
       "    <path d=\"M 233.37 30.997656 \n",
       "C 234.086048 30.997656 234.772866 30.713167 235.279188 30.206845 \n",
       "C 235.785511 29.700522 236.07 29.013705 236.07 28.297656 \n",
       "C 236.07 27.581608 235.785511 26.894791 235.279188 26.388468 \n",
       "C 234.772866 25.882145 234.086048 25.597656 233.37 25.597656 \n",
       "C 232.653952 25.597656 231.967134 25.882145 231.460812 26.388468 \n",
       "C 230.954489 26.894791 230.67 27.581608 230.67 28.297656 \n",
       "C 230.67 29.013705 230.954489 29.700522 231.460812 30.206845 \n",
       "C 231.967134 30.713167 232.653952 30.997656 233.37 30.997656 \n",
       "z\n",
       "\" clip-path=\"url(#p6f9b25036a)\" style=\"fill: #ffffff; stroke: #000000; stroke-width: 2; stroke-linejoin: miter\"/>\n",
       "   </g>\n",
       "   <g id=\"text_4\">\n",
       "    <!-- $V_{out}$ -->\n",
       "    <g transform=\"translate(221.745 19.398047)scale(0.125 -0.125)\">\n",
       "     <defs>\n",
       "      <path id=\"DejaVuSans-Oblique-6f\" d=\"M 1625 -91 \n",
       "Q 1009 -91 651 289 \n",
       "Q 294 669 294 1325 \n",
       "Q 294 1706 417 2101 \n",
       "Q 541 2497 738 2766 \n",
       "Q 1047 3184 1428 3384 \n",
       "Q 1809 3584 2291 3584 \n",
       "Q 2888 3584 3255 3212 \n",
       "Q 3622 2841 3622 2241 \n",
       "Q 3622 1825 3500 1412 \n",
       "Q 3378 1000 3181 728 \n",
       "Q 2875 309 2494 109 \n",
       "Q 2113 -91 1625 -91 \n",
       "z\n",
       "M 891 1344 \n",
       "Q 891 869 1089 633 \n",
       "Q 1288 397 1691 397 \n",
       "Q 2269 397 2648 901 \n",
       "Q 3028 1406 3028 2181 \n",
       "Q 3028 2634 2825 2865 \n",
       "Q 2622 3097 2228 3097 \n",
       "Q 1903 3097 1650 2945 \n",
       "Q 1397 2794 1197 2484 \n",
       "Q 1050 2253 970 1956 \n",
       "Q 891 1659 891 1344 \n",
       "z\n",
       "\" transform=\"scale(0.015625)\"/>\n",
       "      <path id=\"DejaVuSans-Oblique-75\" d=\"M 428 1388 \n",
       "L 838 3500 \n",
       "L 1416 3500 \n",
       "L 1006 1409 \n",
       "Q 975 1256 961 1147 \n",
       "Q 947 1038 947 966 \n",
       "Q 947 700 1109 554 \n",
       "Q 1272 409 1569 409 \n",
       "Q 2031 409 2368 721 \n",
       "Q 2706 1034 2809 1563 \n",
       "L 3194 3500 \n",
       "L 3769 3500 \n",
       "L 3091 0 \n",
       "L 2516 0 \n",
       "L 2631 550 \n",
       "Q 2388 244 2052 76 \n",
       "Q 1716 -91 1338 -91 \n",
       "Q 878 -91 622 161 \n",
       "Q 366 413 366 863 \n",
       "Q 366 956 381 1097 \n",
       "Q 397 1238 428 1388 \n",
       "z\n",
       "\" transform=\"scale(0.015625)\"/>\n",
       "      <path id=\"DejaVuSans-Oblique-74\" d=\"M 2706 3500 \n",
       "L 2619 3053 \n",
       "L 1472 3053 \n",
       "L 1100 1153 \n",
       "Q 1081 1047 1072 975 \n",
       "Q 1063 903 1063 863 \n",
       "Q 1063 663 1183 572 \n",
       "Q 1303 481 1569 481 \n",
       "L 2150 481 \n",
       "L 2053 0 \n",
       "L 1503 0 \n",
       "Q 991 0 739 200 \n",
       "Q 488 400 488 806 \n",
       "Q 488 878 497 964 \n",
       "Q 506 1050 525 1153 \n",
       "L 897 3053 \n",
       "L 409 3053 \n",
       "L 500 3500 \n",
       "L 978 3500 \n",
       "L 1172 4494 \n",
       "L 1747 4494 \n",
       "L 1556 3500 \n",
       "L 2706 3500 \n",
       "z\n",
       "\" transform=\"scale(0.015625)\"/>\n",
       "     </defs>\n",
       "     <use xlink:href=\"#DejaVuSans-Oblique-56\" transform=\"translate(0 0.09375)\"/>\n",
       "     <use xlink:href=\"#DejaVuSans-Oblique-6f\" transform=\"translate(68.408203 -16.3125)scale(0.7)\"/>\n",
       "     <use xlink:href=\"#DejaVuSans-Oblique-75\" transform=\"translate(111.235352 -16.3125)scale(0.7)\"/>\n",
       "     <use xlink:href=\"#DejaVuSans-Oblique-74\" transform=\"translate(155.600586 -16.3125)scale(0.7)\"/>\n",
       "    </g>\n",
       "   </g>\n",
       "  </g>\n",
       " </g>\n",
       " <defs>\n",
       "  <clipPath id=\"p6f9b25036a\">\n",
       "   <rect x=\"3.6\" y=\"12.295656\" width=\"243.54\" height=\"154.044\"/>\n",
       "  </clipPath>\n",
       " </defs>\n",
       "</svg>\n"
      ],
      "text/plain": [
       "<schemdraw.backends.mpl.Figure object at 0x000001BD91FC23E0>"
      ]
     },
     "metadata": {},
     "output_type": "display_data"
    }
   ],
   "source": [
    "# Draw a RC low-pass filter with SchemDraw\n",
    "\n",
    "with schemdraw.Drawing() as d:\n",
    "    elm.Dot(label='$V_{in}$',open=True)\n",
    "    R1 = elm.Resistor().dot().label('R')\n",
    "    elm.Capacitor().down().label('C')\n",
    "    elm.Ground()\n",
    "    elm.Line().right().at(R1.end)\n",
    "    elm.Dot(open=True).label('$V_{out}$')"
   ]
  },
  {
   "cell_type": "markdown",
   "metadata": {},
   "source": [
    "In this scenario there is a frequency at which the capacitive reactance will be quivalent to the resistance.  This will be the *critical frequency* $f_c$ of the filter.\n",
    "\n",
    "$$\n",
    "\\begin{align}\n",
    "X_C &= \\frac{1}{2 \\pi f_c C} = R \\\\\n",
    "\\\\\n",
    "f_c &= \\frac{1}{2 \\pi R C}\n",
    "\n",
    "\\end{align}\n",
    "$$\n"
   ]
  },
  {
   "cell_type": "code",
   "execution_count": 116,
   "metadata": {},
   "outputs": [
    {
     "name": "stdout",
     "output_type": "stream",
     "text": [
      "15.915494309189537\n"
     ]
    }
   ],
   "source": [
    "def get_rc_critical_frequency(resistance,capacitance):\n",
    "    return 1/(2*math.pi*resistance*capacitance)\n",
    "\n",
    "R = 100 #Ohms\n",
    "\n",
    "critical_frequency = get_rc_critical_frequency(R,C)\n",
    "print(critical_frequency)"
   ]
  },
  {
   "cell_type": "code",
   "execution_count": 117,
   "metadata": {},
   "outputs": [
    {
     "data": {
      "image/png": "[encoded data removed]",
      "text/plain": [
       "<Figure size 640x480 with 1 Axes>"
      ]
     },
     "metadata": {},
     "output_type": "display_data"
    }
   ],
   "source": [
    "# Plotting R and Xc interactions\n",
    "\n",
    "fig, ax = plt.subplots()\n",
    "# ax.plot(freqs,ind_reactances,label='Inductive Reactance')\n",
    "ax.plot(freqs,cap_reactances,label='Capacitive Reactance', color='C1')\n",
    "ax.axhline([R], label='Resistance', linestyle='-', color = 'green')\n",
    "ax.axvline([critical_frequency], label='Critical Frequency', linestyle='--', color = 'red')\n",
    "ax.legend()\n",
    "plt.show()"
   ]
  },
  {
   "cell_type": "markdown",
   "metadata": {},
   "source": [
    "According to earlier, the critical frequency is the frequency at which the output voltage drops by 3 dB.\n",
    "\n",
    "We can calculate the voltage drop each component by using the voltage divider rule:\n",
    "\n",
    "$$\n",
    "V_{out} = V_{in} \\times \\left(\\frac{|Z_i|}{|Z_{total}|}\\right)\n",
    "$$"
   ]
  },
  {
   "cell_type": "code",
   "execution_count": 175,
   "metadata": {},
   "outputs": [],
   "source": [
    "# Voltage divider calculations\n",
    "resistor_voltages = []\n",
    "capacitor_voltages = []\n",
    "V_in = 10 #Volts\n",
    "freqs = range(1,100)\n",
    "for freq in freqs:\n",
    "    Xc = get_capacitive_reactance(C,freq)\n",
    "    Z = R+Xc\n",
    "    V_R = V_in*(abs(R)/abs(Z))\n",
    "    V_C = V_in*(abs(Xc)/abs(Z))\n",
    "    resistor_voltages.append(V_R)\n",
    "    capacitor_voltages.append(V_C)"
   ]
  },
  {
   "cell_type": "code",
   "execution_count": 176,
   "metadata": {},
   "outputs": [
    {
     "data": {
      "image/png": "[encoded data removed]",
      "text/plain": [
       "<Figure size 640x480 with 2 Axes>"
      ]
     },
     "metadata": {},
     "output_type": "display_data"
    }
   ],
   "source": [
    "# Plotting them\n",
    "fig, axs = plt.subplots(1,2)\n",
    "for ax in axs:\n",
    "    ax.plot(freqs,resistor_voltages, label='$V_R$')\n",
    "    ax.plot(freqs,capacitor_voltages, label='$V_C$')\n",
    "    ax.axvline([critical_frequency], label='$f_c$', linestyle='--', color = 'red',alpha=0.3)\n",
    "    ax.axhline(V_in/math.sqrt(2), label=r'${V_{in}}\\div{\\sqrt{2}}$', linestyle='--',color='black',alpha=0.3)\n",
    "    # ax.axhline(V_in*.7, label=r'${V_{in}}\\div{\\sqrt{2}}$', linestyle='--',color='black',alpha=0.3)\n",
    "    ax.legend(loc='lower right')\n",
    "\n",
    "axs[0].set_title('Normal Y-Axis')\n",
    "axs[1].set_title('Logarithmic Y-Axis')\n",
    "axs[1].set_yscale('log')"
   ]
  },
  {
   "cell_type": "markdown",
   "metadata": {},
   "source": [
    "This is an interesting interaction. Even though $R$ and $X_C$ are equivalent to each other, because of the phase difference, the voltage divide does happen at $\\frac{1}{2}$, but rather at $\\frac{1}{\\sqrt2}$.\n",
    "\n",
    "Notice how on the logarithmic scale, that intersection is $\\approx$ 3 notches down? That should clue us in on what is meant when they say that the output voltage decreases 3 *decibels* at the critical frequency.  Technically, that notch is 70% of 10, so my guess is that we use the 3 dB rule because 0.7 is \"close'nuff\" to 0.707.\n",
    "\n",
    "(I intentionally chose 10 V as the input voltage in hopes of seeing this.)"
   ]
  },
  {
   "cell_type": "markdown",
   "metadata": {},
   "source": [
    "## RL Low-pass filter"
   ]
  },
  {
   "cell_type": "code",
   "execution_count": 178,
   "metadata": {},
   "outputs": [
    {
     "data": {
      "image/png": "[encoded data removed]",
      "image/svg+xml": [
       "<?xml version=\"1.0\" encoding=\"utf-8\" standalone=\"no\"?>\n",
       "<!DOCTYPE svg PUBLIC \"-//W3C//DTD SVG 1.1//EN\"\n",
       "  \"http://www.w3.org/Graphics/SVG/1.1/DTD/svg11.dtd\">\n",
       "<svg xmlns:xlink=\"http://www.w3.org/1999/xlink\" width=\"250.74pt\" height=\"165.214634pt\" viewBox=\"0 0 250.74 165.214634\" xmlns=\"http://www.w3.org/2000/svg\" version=\"1.1\">\n",
       " <metadata>\n",
       "  <rdf:RDF xmlns:dc=\"http://purl.org/dc/elements/1.1/\" xmlns:cc=\"http://creativecommons.org/ns#\" xmlns:rdf=\"http://www.w3.org/1999/02/22-rdf-syntax-ns#\">\n",
       "   <cc:Work>\n",
       "    <dc:type rdf:resource=\"http://purl.org/dc/dcmitype/StillImage\"/>\n",
       "    <dc:date>2024-01-15T21:17:08.923858</dc:date>\n",
       "    <dc:format>image/svg+xml</dc:format>\n",
       "    <dc:creator>\n",
       "     <cc:Agent>\n",
       "      <dc:title>Matplotlib v3.5.3, https://matplotlib.org/</dc:title>\n",
       "     </cc:Agent>\n",
       "    </dc:creator>\n",
       "   </cc:Work>\n",
       "  </rdf:RDF>\n",
       " </metadata>\n",
       " <defs>\n",
       "  <style type=\"text/css\">*{stroke-linejoin: round; stroke-linecap: butt}</style>\n",
       " </defs>\n",
       " <g id=\"figure_1\">\n",
       "  <g id=\"patch_1\">\n",
       "   <path d=\"M 0 165.214634 \n",
       "L 250.74 165.214634 \n",
       "L 250.74 0 \n",
       "L 0 0 \n",
       "z\n",
       "\" style=\"fill: #ffffff\"/>\n",
       "  </g>\n",
       "  <g id=\"axes_1\">\n",
       "   <g id=\"patch_2\">\n",
       "    <path d=\"M 62.37 23.797634 \n",
       "C 62.37 22.604617 61.895571 21.459243 61.051981 20.615653 \n",
       "C 60.20839 19.772063 59.063016 19.297634 57.87 19.297634 \n",
       "C 56.676984 19.297634 55.53161 19.772063 54.688019 20.615653 \n",
       "C 53.844429 21.459243 53.37 22.604617 53.37 23.797634 \n",
       "\" clip-path=\"url(#pa98fe4038d)\" style=\"fill: none; stroke: #000000; stroke-width: 2; stroke-linejoin: miter\"/>\n",
       "   </g>\n",
       "   <g id=\"patch_3\">\n",
       "    <path d=\"M 71.37 23.797634 \n",
       "C 71.37 22.604617 70.895571 21.459243 70.051981 20.615653 \n",
       "C 69.20839 19.772063 68.063016 19.297634 66.87 19.297634 \n",
       "C 65.676984 19.297634 64.53161 19.772063 63.688019 20.615653 \n",
       "C 62.844429 21.459243 62.37 22.604617 62.37 23.797634 \n",
       "\" clip-path=\"url(#pa98fe4038d)\" style=\"fill: none; stroke: #000000; stroke-width: 2; stroke-linejoin: miter\"/>\n",
       "   </g>\n",
       "   <g id=\"patch_4\">\n",
       "    <path d=\"M 80.37 23.797634 \n",
       "C 80.37 22.604617 79.895571 21.459243 79.051981 20.615653 \n",
       "C 78.20839 19.772063 77.063016 19.297634 75.87 19.297634 \n",
       "C 74.676984 19.297634 73.53161 19.772063 72.688019 20.615653 \n",
       "C 71.844429 21.459243 71.37 22.604617 71.37 23.797634 \n",
       "\" clip-path=\"url(#pa98fe4038d)\" style=\"fill: none; stroke: #000000; stroke-width: 2; stroke-linejoin: miter\"/>\n",
       "   </g>\n",
       "   <g id=\"patch_5\">\n",
       "    <path d=\"M 89.37 23.797634 \n",
       "C 89.37 22.604617 88.895571 21.459243 88.051981 20.615653 \n",
       "C 87.20839 19.772063 86.063016 19.297634 84.87 19.297634 \n",
       "C 83.676984 19.297634 82.53161 19.772063 81.688019 20.615653 \n",
       "C 80.844429 21.459243 80.37 22.604617 80.37 23.797634 \n",
       "\" clip-path=\"url(#pa98fe4038d)\" style=\"fill: none; stroke: #000000; stroke-width: 2; stroke-linejoin: miter\"/>\n",
       "   </g>\n",
       "   <g id=\"line2d_1\">\n",
       "    <path d=\"M 17.37 23.797634 \n",
       "L 53.37 23.797634 \n",
       "M 89.37 23.797634 \n",
       "L 125.37 23.797634 \n",
       "\" clip-path=\"url(#pa98fe4038d)\" style=\"fill: none; stroke: #000000; stroke-width: 2; stroke-linecap: round\"/>\n",
       "   </g>\n",
       "   <g id=\"line2d_2\">\n",
       "    <path d=\"M 125.37 23.797634 \n",
       "L 125.37 59.797634 \n",
       "L 134.37 62.797634 \n",
       "L 116.37 68.797634 \n",
       "L 134.37 74.797634 \n",
       "L 116.37 80.797634 \n",
       "L 134.37 86.797634 \n",
       "L 116.37 92.797634 \n",
       "L 125.37 95.797634 \n",
       "L 125.37 131.797634 \n",
       "\" clip-path=\"url(#pa98fe4038d)\" style=\"fill: none; stroke: #000000; stroke-width: 2; stroke-linecap: round\"/>\n",
       "   </g>\n",
       "   <g id=\"line2d_3\">\n",
       "    <path d=\"M 125.37 131.797634 \n",
       "L 125.37 146.197634 \n",
       "L 116.37 146.197634 \n",
       "L 134.37 146.197634 \n",
       "M 119.07 150.517634 \n",
       "L 131.67 150.517634 \n",
       "M 123.57 154.837634 \n",
       "L 127.17 154.837634 \n",
       "\" clip-path=\"url(#pa98fe4038d)\" style=\"fill: none; stroke: #000000; stroke-width: 2; stroke-linecap: round\"/>\n",
       "   </g>\n",
       "   <g id=\"line2d_4\">\n",
       "    <path d=\"M 125.37 23.797634 \n",
       "L 179.37 23.797634 \n",
       "L 233.37 23.797634 \n",
       "\" clip-path=\"url(#pa98fe4038d)\" style=\"fill: none; stroke: #000000; stroke-width: 2; stroke-linecap: round\"/>\n",
       "   </g>\n",
       "   <g id=\"patch_6\">\n",
       "    <path d=\"M 125.37 26.497634 \n",
       "C 126.086048 26.497634 126.772866 26.213145 127.279188 25.706822 \n",
       "C 127.785511 25.2005 128.07 24.513682 128.07 23.797634 \n",
       "C 128.07 23.081586 127.785511 22.394768 127.279188 21.888446 \n",
       "C 126.772866 21.382123 126.086048 21.097634 125.37 21.097634 \n",
       "C 124.653952 21.097634 123.967134 21.382123 123.460812 21.888446 \n",
       "C 122.954489 22.394768 122.67 23.081586 122.67 23.797634 \n",
       "C 122.67 24.513682 122.954489 25.2005 123.460812 25.706822 \n",
       "C 123.967134 26.213145 124.653952 26.497634 125.37 26.497634 \n",
       "z\n",
       "\" clip-path=\"url(#pa98fe4038d)\" style=\"stroke: #000000; stroke-width: 2; stroke-linejoin: miter\"/>\n",
       "   </g>\n",
       "   <g id=\"text_1\">\n",
       "    <!-- L -->\n",
       "    <g transform=\"translate(69.237578 13.098047)scale(0.125 -0.125)\">\n",
       "     <defs>\n",
       "      <path id=\"DejaVuSans-4c\" d=\"M 628 4666 \n",
       "L 1259 4666 \n",
       "L 1259 531 \n",
       "L 3531 531 \n",
       "L 3531 0 \n",
       "L 628 0 \n",
       "L 628 4666 \n",
       "z\n",
       "\" transform=\"scale(0.015625)\"/>\n",
       "     </defs>\n",
       "     <use xlink:href=\"#DejaVuSans-4c\"/>\n",
       "    </g>\n",
       "   </g>\n",
       "   <g id=\"text_2\">\n",
       "    <!-- R -->\n",
       "    <g transform=\"translate(104.084453 81.246853)scale(0.125 -0.125)\">\n",
       "     <defs>\n",
       "      <path id=\"DejaVuSans-52\" d=\"M 2841 2188 \n",
       "Q 3044 2119 3236 1894 \n",
       "Q 3428 1669 3622 1275 \n",
       "L 4263 0 \n",
       "L 3584 0 \n",
       "L 2988 1197 \n",
       "Q 2756 1666 2539 1819 \n",
       "Q 2322 1972 1947 1972 \n",
       "L 1259 1972 \n",
       "L 1259 0 \n",
       "L 628 0 \n",
       "L 628 4666 \n",
       "L 2053 4666 \n",
       "Q 2853 4666 3247 4331 \n",
       "Q 3641 3997 3641 3322 \n",
       "Q 3641 2881 3436 2590 \n",
       "Q 3231 2300 2841 2188 \n",
       "z\n",
       "M 1259 4147 \n",
       "L 1259 2491 \n",
       "L 2053 2491 \n",
       "Q 2509 2491 2742 2702 \n",
       "Q 2975 2913 2975 3322 \n",
       "Q 2975 3731 2742 3939 \n",
       "Q 2509 4147 2053 4147 \n",
       "L 1259 4147 \n",
       "z\n",
       "\" transform=\"scale(0.015625)\"/>\n",
       "     </defs>\n",
       "     <use xlink:href=\"#DejaVuSans-52\"/>\n",
       "    </g>\n",
       "   </g>\n",
       "   <g id=\"patch_7\">\n",
       "    <path d=\"M 17.37 26.497634 \n",
       "C 18.086048 26.497634 18.772866 26.213145 19.279188 25.706822 \n",
       "C 19.785511 25.2005 20.07 24.513682 20.07 23.797634 \n",
       "C 20.07 23.081586 19.785511 22.394768 19.279188 21.888446 \n",
       "C 18.772866 21.382123 18.086048 21.097634 17.37 21.097634 \n",
       "C 16.653952 21.097634 15.967134 21.382123 15.460812 21.888446 \n",
       "C 14.954489 22.394768 14.67 23.081586 14.67 23.797634 \n",
       "C 14.67 24.513682 14.954489 25.2005 15.460812 25.706822 \n",
       "C 15.967134 26.213145 16.653952 26.497634 17.37 26.497634 \n",
       "z\n",
       "\" clip-path=\"url(#pa98fe4038d)\" style=\"fill: #ffffff; stroke: #000000; stroke-width: 2; stroke-linejoin: miter\"/>\n",
       "   </g>\n",
       "   <g id=\"text_3\">\n",
       "    <!-- $V_{in}$ -->\n",
       "    <g transform=\"translate(8.9325 14.898025)scale(0.125 -0.125)\">\n",
       "     <defs>\n",
       "      <path id=\"DejaVuSans-Oblique-56\" d=\"M 1319 0 \n",
       "L 500 4666 \n",
       "L 1119 4666 \n",
       "L 1797 653 \n",
       "L 4063 4666 \n",
       "L 4750 4666 \n",
       "L 2053 0 \n",
       "L 1319 0 \n",
       "z\n",
       "\" transform=\"scale(0.015625)\"/>\n",
       "      <path id=\"DejaVuSans-Oblique-69\" d=\"M 1172 4863 \n",
       "L 1747 4863 \n",
       "L 1606 4134 \n",
       "L 1031 4134 \n",
       "L 1172 4863 \n",
       "z\n",
       "M 909 3500 \n",
       "L 1484 3500 \n",
       "L 800 0 \n",
       "L 225 0 \n",
       "L 909 3500 \n",
       "z\n",
       "\" transform=\"scale(0.015625)\"/>\n",
       "      <path id=\"DejaVuSans-Oblique-6e\" d=\"M 3566 2113 \n",
       "L 3156 0 \n",
       "L 2578 0 \n",
       "L 2988 2091 \n",
       "Q 3016 2238 3031 2350 \n",
       "Q 3047 2463 3047 2528 \n",
       "Q 3047 2791 2881 2937 \n",
       "Q 2716 3084 2419 3084 \n",
       "Q 1956 3084 1622 2776 \n",
       "Q 1288 2469 1184 1941 \n",
       "L 800 0 \n",
       "L 225 0 \n",
       "L 903 3500 \n",
       "L 1478 3500 \n",
       "L 1363 2950 \n",
       "Q 1603 3253 1940 3418 \n",
       "Q 2278 3584 2650 3584 \n",
       "Q 3113 3584 3367 3334 \n",
       "Q 3622 3084 3622 2631 \n",
       "Q 3622 2519 3608 2391 \n",
       "Q 3594 2263 3566 2113 \n",
       "z\n",
       "\" transform=\"scale(0.015625)\"/>\n",
       "     </defs>\n",
       "     <use xlink:href=\"#DejaVuSans-Oblique-56\" transform=\"translate(0 0.09375)\"/>\n",
       "     <use xlink:href=\"#DejaVuSans-Oblique-69\" transform=\"translate(68.408203 -16.3125)scale(0.7)\"/>\n",
       "     <use xlink:href=\"#DejaVuSans-Oblique-6e\" transform=\"translate(87.856445 -16.3125)scale(0.7)\"/>\n",
       "    </g>\n",
       "   </g>\n",
       "   <g id=\"patch_8\">\n",
       "    <path d=\"M 233.37 26.497634 \n",
       "C 234.086048 26.497634 234.772866 26.213145 235.279188 25.706822 \n",
       "C 235.785511 25.2005 236.07 24.513682 236.07 23.797634 \n",
       "C 236.07 23.081586 235.785511 22.394768 235.279188 21.888446 \n",
       "C 234.772866 21.382123 234.086048 21.097634 233.37 21.097634 \n",
       "C 232.653952 21.097634 231.967134 21.382123 231.460812 21.888446 \n",
       "C 230.954489 22.394768 230.67 23.081586 230.67 23.797634 \n",
       "C 230.67 24.513682 230.954489 25.2005 231.460812 25.706822 \n",
       "C 231.967134 26.213145 232.653952 26.497634 233.37 26.497634 \n",
       "z\n",
       "\" clip-path=\"url(#pa98fe4038d)\" style=\"fill: #ffffff; stroke: #000000; stroke-width: 2; stroke-linejoin: miter\"/>\n",
       "   </g>\n",
       "   <g id=\"text_4\">\n",
       "    <!-- $V_{out}$ -->\n",
       "    <g transform=\"translate(221.745 14.898025)scale(0.125 -0.125)\">\n",
       "     <defs>\n",
       "      <path id=\"DejaVuSans-Oblique-6f\" d=\"M 1625 -91 \n",
       "Q 1009 -91 651 289 \n",
       "Q 294 669 294 1325 \n",
       "Q 294 1706 417 2101 \n",
       "Q 541 2497 738 2766 \n",
       "Q 1047 3184 1428 3384 \n",
       "Q 1809 3584 2291 3584 \n",
       "Q 2888 3584 3255 3212 \n",
       "Q 3622 2841 3622 2241 \n",
       "Q 3622 1825 3500 1412 \n",
       "Q 3378 1000 3181 728 \n",
       "Q 2875 309 2494 109 \n",
       "Q 2113 -91 1625 -91 \n",
       "z\n",
       "M 891 1344 \n",
       "Q 891 869 1089 633 \n",
       "Q 1288 397 1691 397 \n",
       "Q 2269 397 2648 901 \n",
       "Q 3028 1406 3028 2181 \n",
       "Q 3028 2634 2825 2865 \n",
       "Q 2622 3097 2228 3097 \n",
       "Q 1903 3097 1650 2945 \n",
       "Q 1397 2794 1197 2484 \n",
       "Q 1050 2253 970 1956 \n",
       "Q 891 1659 891 1344 \n",
       "z\n",
       "\" transform=\"scale(0.015625)\"/>\n",
       "      <path id=\"DejaVuSans-Oblique-75\" d=\"M 428 1388 \n",
       "L 838 3500 \n",
       "L 1416 3500 \n",
       "L 1006 1409 \n",
       "Q 975 1256 961 1147 \n",
       "Q 947 1038 947 966 \n",
       "Q 947 700 1109 554 \n",
       "Q 1272 409 1569 409 \n",
       "Q 2031 409 2368 721 \n",
       "Q 2706 1034 2809 1563 \n",
       "L 3194 3500 \n",
       "L 3769 3500 \n",
       "L 3091 0 \n",
       "L 2516 0 \n",
       "L 2631 550 \n",
       "Q 2388 244 2052 76 \n",
       "Q 1716 -91 1338 -91 \n",
       "Q 878 -91 622 161 \n",
       "Q 366 413 366 863 \n",
       "Q 366 956 381 1097 \n",
       "Q 397 1238 428 1388 \n",
       "z\n",
       "\" transform=\"scale(0.015625)\"/>\n",
       "      <path id=\"DejaVuSans-Oblique-74\" d=\"M 2706 3500 \n",
       "L 2619 3053 \n",
       "L 1472 3053 \n",
       "L 1100 1153 \n",
       "Q 1081 1047 1072 975 \n",
       "Q 1063 903 1063 863 \n",
       "Q 1063 663 1183 572 \n",
       "Q 1303 481 1569 481 \n",
       "L 2150 481 \n",
       "L 2053 0 \n",
       "L 1503 0 \n",
       "Q 991 0 739 200 \n",
       "Q 488 400 488 806 \n",
       "Q 488 878 497 964 \n",
       "Q 506 1050 525 1153 \n",
       "L 897 3053 \n",
       "L 409 3053 \n",
       "L 500 3500 \n",
       "L 978 3500 \n",
       "L 1172 4494 \n",
       "L 1747 4494 \n",
       "L 1556 3500 \n",
       "L 2706 3500 \n",
       "z\n",
       "\" transform=\"scale(0.015625)\"/>\n",
       "     </defs>\n",
       "     <use xlink:href=\"#DejaVuSans-Oblique-56\" transform=\"translate(0 0.09375)\"/>\n",
       "     <use xlink:href=\"#DejaVuSans-Oblique-6f\" transform=\"translate(68.408203 -16.3125)scale(0.7)\"/>\n",
       "     <use xlink:href=\"#DejaVuSans-Oblique-75\" transform=\"translate(111.235352 -16.3125)scale(0.7)\"/>\n",
       "     <use xlink:href=\"#DejaVuSans-Oblique-74\" transform=\"translate(155.600586 -16.3125)scale(0.7)\"/>\n",
       "    </g>\n",
       "   </g>\n",
       "  </g>\n",
       " </g>\n",
       " <defs>\n",
       "  <clipPath id=\"pa98fe4038d\">\n",
       "   <rect x=\"3.6\" y=\"12.520634\" width=\"243.54\" height=\"149.094\"/>\n",
       "  </clipPath>\n",
       " </defs>\n",
       "</svg>\n"
      ],
      "text/plain": [
       "<schemdraw.backends.mpl.Figure object at 0x000001BD93F1F0A0>"
      ]
     },
     "metadata": {},
     "output_type": "display_data"
    }
   ],
   "source": [
    "# Draw a RL low-pass filter with SchemDraw\n",
    "\n",
    "with schemdraw.Drawing() as d:\n",
    "    elm.Dot(label='$V_{in}$',open=True)\n",
    "    R1 = elm.Inductor().dot().label('L')\n",
    "    elm.Resistor().down().label('R')\n",
    "    elm.Ground()\n",
    "    elm.Line().right().at(R1.end)\n",
    "    elm.Dot(open=True).label('$V_{out}$')"
   ]
  },
  {
   "cell_type": "markdown",
   "metadata": {},
   "source": [
    "In this scenario the output voltage is taken across the resistor.\n",
    "\n",
    "Again, the critical frequency occurs when the resistance and inductive reactance are equal in magnitude.\n",
    "$$\n",
    "X_L = 2 \\pi f_c L = R\n",
    "$$\n",
    "\n",
    "Solving for $f_c$:\n",
    "$$\n",
    "\\begin{align}\n",
    "f_c &= \\frac{R}{2 \\pi L}\\\\\n",
    "\\\\\n",
    "f_c &= \\frac{1}{2 \\pi (L/R)}\n",
    "\\end{align}\n",
    "$$"
   ]
  },
  {
   "cell_type": "code",
   "execution_count": 182,
   "metadata": {},
   "outputs": [
    {
     "name": "stdout",
     "output_type": "stream",
     "text": [
      "159.15494309189532\n",
      "159.15494309189535\n"
     ]
    }
   ],
   "source": [
    "def two_pi(n):\n",
    "    return 2*math.pi*n\n",
    "\n"
   ]
  }
 ],
 "metadata": {
  "kernelspec": {
   "display_name": "Python 3",
   "language": "python",
   "name": "python3"
  },
  "language_info": {
   "codemirror_mode": {
    "name": "ipython",
    "version": 3
   },
   "file_extension": ".py",
   "mimetype": "text/x-python",
   "name": "python",
   "nbconvert_exporter": "python",
   "pygments_lexer": "ipython3",
   "version": "3.10.8"
  }
 },
 "nbformat": 4,
 "nbformat_minor": 2
}
