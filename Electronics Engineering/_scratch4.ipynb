{
 "cells": [
  {
   "cell_type": "code",
   "execution_count": 1,
   "metadata": {},
   "outputs": [],
   "source": [
    "import schemdraw\n",
    "import schemdraw.elements as elm\n",
    "import matplotlib.pyplot as plt\n",
    "\n",
    "from my_helpers import *"
   ]
  },
  {
   "cell_type": "code",
   "execution_count": 2,
   "metadata": {},
   "outputs": [
    {
     "data": {
      "image/png": "[encoded data removed]",
      "image/svg+xml": [
       "<?xml version=\"1.0\" encoding=\"utf-8\" standalone=\"no\"?>\n",
       "<!DOCTYPE svg PUBLIC \"-//W3C//DTD SVG 1.1//EN\"\n",
       "  \"http://www.w3.org/Graphics/SVG/1.1/DTD/svg11.dtd\">\n",
       "<svg xmlns:xlink=\"http://www.w3.org/1999/xlink\" width=\"250.74pt\" height=\"163.639656pt\" viewBox=\"0 0 250.74 163.639656\" xmlns=\"http://www.w3.org/2000/svg\" version=\"1.1\">\n",
       " <metadata>\n",
       "  <rdf:RDF xmlns:dc=\"http://purl.org/dc/elements/1.1/\" xmlns:cc=\"http://creativecommons.org/ns#\" xmlns:rdf=\"http://www.w3.org/1999/02/22-rdf-syntax-ns#\">\n",
       "   <cc:Work>\n",
       "    <dc:type rdf:resource=\"http://purl.org/dc/dcmitype/StillImage\"/>\n",
       "    <dc:date>2024-01-17T09:46:12.703118</dc:date>\n",
       "    <dc:format>image/svg+xml</dc:format>\n",
       "    <dc:creator>\n",
       "     <cc:Agent>\n",
       "      <dc:title>Matplotlib v3.8.2, https://matplotlib.org/</dc:title>\n",
       "     </cc:Agent>\n",
       "    </dc:creator>\n",
       "   </cc:Work>\n",
       "  </rdf:RDF>\n",
       " </metadata>\n",
       " <defs>\n",
       "  <style type=\"text/css\">*{stroke-linejoin: round; stroke-linecap: butt}</style>\n",
       " </defs>\n",
       " <g id=\"figure_1\">\n",
       "  <g id=\"patch_1\">\n",
       "   <path d=\"M 0 163.639656 \n",
       "L 250.74 163.639656 \n",
       "L 250.74 0 \n",
       "L 0 0 \n",
       "z\n",
       "\" style=\"fill: #ffffff\"/>\n",
       "  </g>\n",
       "  <g id=\"axes_1\">\n",
       "   <g id=\"line2d_1\">\n",
       "    <path d=\"M 17.37 21.997656 \n",
       "L 53.37 21.997656 \n",
       "L 56.37 12.997656 \n",
       "L 62.37 30.997656 \n",
       "L 68.37 12.997656 \n",
       "L 74.37 30.997656 \n",
       "L 80.37 12.997656 \n",
       "L 86.37 30.997656 \n",
       "L 89.37 21.997656 \n",
       "L 125.37 21.997656 \n",
       "\" clip-path=\"url(#pf33f1d3baa)\" style=\"fill: none; stroke: #000000; stroke-width: 2; stroke-linecap: round\"/>\n",
       "   </g>\n",
       "   <g id=\"line2d_2\">\n",
       "    <path d=\"M 125.37 21.997656 \n",
       "L 125.37 72.757656 \n",
       "M 134.37 72.757656 \n",
       "L 116.37 72.757656 \n",
       "M 134.37 79.237656 \n",
       "L 116.37 79.237656 \n",
       "M 125.37 79.237656 \n",
       "L 125.37 129.997656 \n",
       "\" clip-path=\"url(#pf33f1d3baa)\" style=\"fill: none; stroke: #000000; stroke-width: 2; stroke-linecap: round\"/>\n",
       "   </g>\n",
       "   <g id=\"line2d_3\">\n",
       "    <path d=\"M 125.37 129.997656 \n",
       "L 125.37 144.397656 \n",
       "L 116.37 144.397656 \n",
       "L 134.37 144.397656 \n",
       "M 119.07 148.717656 \n",
       "L 131.67 148.717656 \n",
       "M 123.57 153.037656 \n",
       "L 127.17 153.037656 \n",
       "\" clip-path=\"url(#pf33f1d3baa)\" style=\"fill: none; stroke: #000000; stroke-width: 2; stroke-linecap: round\"/>\n",
       "   </g>\n",
       "   <g id=\"line2d_4\">\n",
       "    <path d=\"M 125.37 21.997656 \n",
       "L 179.37 21.997656 \n",
       "L 233.37 21.997656 \n",
       "\" clip-path=\"url(#pf33f1d3baa)\" style=\"fill: none; stroke: #000000; stroke-width: 2; stroke-linecap: round\"/>\n",
       "   </g>\n",
       "   <g id=\"patch_2\">\n",
       "    <path d=\"M 125.37 24.697656 \n",
       "C 126.086048 24.697656 126.772866 24.413167 127.279188 23.906845 \n",
       "C 127.785511 23.400522 128.07 22.713705 128.07 21.997656 \n",
       "C 128.07 21.281608 127.785511 20.594791 127.279188 20.088468 \n",
       "C 126.772866 19.582145 126.086048 19.297656 125.37 19.297656 \n",
       "C 124.653952 19.297656 123.967134 19.582145 123.460812 20.088468 \n",
       "C 122.954489 20.594791 122.67 21.281608 122.67 21.997656 \n",
       "C 122.67 22.713705 122.954489 23.400522 123.460812 23.906845 \n",
       "C 123.967134 24.413167 124.653952 24.697656 125.37 24.697656 \n",
       "z\n",
       "\" clip-path=\"url(#pf33f1d3baa)\" style=\"stroke: #000000; stroke-width: 2; stroke-linejoin: miter\"/>\n",
       "   </g>\n",
       "   <g id=\"patch_3\">\n",
       "    <path d=\"M 17.37 24.697656 \n",
       "C 18.086048 24.697656 18.772866 24.413167 19.279188 23.906845 \n",
       "C 19.785511 23.400522 20.07 22.713705 20.07 21.997656 \n",
       "C 20.07 21.281608 19.785511 20.594791 19.279188 20.088468 \n",
       "C 18.772866 19.582145 18.086048 19.297656 17.37 19.297656 \n",
       "C 16.653952 19.297656 15.967134 19.582145 15.460812 20.088468 \n",
       "C 14.954489 20.594791 14.67 21.281608 14.67 21.997656 \n",
       "C 14.67 22.713705 14.954489 23.400522 15.460812 23.906845 \n",
       "C 15.967134 24.413167 16.653952 24.697656 17.37 24.697656 \n",
       "z\n",
       "\" clip-path=\"url(#pf33f1d3baa)\" style=\"fill: #ffffff; stroke: #000000; stroke-width: 2; stroke-linejoin: miter\"/>\n",
       "   </g>\n",
       "   <g id=\"text_1\">\n",
       "    <!-- $V_{in}$ -->\n",
       "    <g transform=\"translate(8.9325 13.098047) scale(0.125 -0.125)\">\n",
       "     <defs>\n",
       "      <path id=\"DejaVuSans-Oblique-56\" d=\"M 1319 0 \n",
       "L 500 4666 \n",
       "L 1119 4666 \n",
       "L 1797 653 \n",
       "L 4063 4666 \n",
       "L 4750 4666 \n",
       "L 2053 0 \n",
       "L 1319 0 \n",
       "z\n",
       "\" transform=\"scale(0.015625)\"/>\n",
       "      <path id=\"DejaVuSans-Oblique-69\" d=\"M 1172 4863 \n",
       "L 1747 4863 \n",
       "L 1606 4134 \n",
       "L 1031 4134 \n",
       "L 1172 4863 \n",
       "z\n",
       "M 909 3500 \n",
       "L 1484 3500 \n",
       "L 800 0 \n",
       "L 225 0 \n",
       "L 909 3500 \n",
       "z\n",
       "\" transform=\"scale(0.015625)\"/>\n",
       "      <path id=\"DejaVuSans-Oblique-6e\" d=\"M 3566 2113 \n",
       "L 3156 0 \n",
       "L 2578 0 \n",
       "L 2988 2091 \n",
       "Q 3016 2238 3031 2350 \n",
       "Q 3047 2463 3047 2528 \n",
       "Q 3047 2791 2881 2937 \n",
       "Q 2716 3084 2419 3084 \n",
       "Q 1956 3084 1622 2776 \n",
       "Q 1288 2469 1184 1941 \n",
       "L 800 0 \n",
       "L 225 0 \n",
       "L 903 3500 \n",
       "L 1478 3500 \n",
       "L 1363 2950 \n",
       "Q 1603 3253 1940 3418 \n",
       "Q 2278 3584 2650 3584 \n",
       "Q 3113 3584 3367 3334 \n",
       "Q 3622 3084 3622 2631 \n",
       "Q 3622 2519 3608 2391 \n",
       "Q 3594 2263 3566 2113 \n",
       "z\n",
       "\" transform=\"scale(0.015625)\"/>\n",
       "     </defs>\n",
       "     <use xlink:href=\"#DejaVuSans-Oblique-56\" transform=\"translate(0 0.09375)\"/>\n",
       "     <use xlink:href=\"#DejaVuSans-Oblique-69\" transform=\"translate(68.408203 -16.3125) scale(0.7)\"/>\n",
       "     <use xlink:href=\"#DejaVuSans-Oblique-6e\" transform=\"translate(87.856445 -16.3125) scale(0.7)\"/>\n",
       "    </g>\n",
       "   </g>\n",
       "   <g id=\"patch_4\">\n",
       "    <path d=\"M 233.37 24.697656 \n",
       "C 234.086048 24.697656 234.772866 24.413167 235.279188 23.906845 \n",
       "C 235.785511 23.400522 236.07 22.713705 236.07 21.997656 \n",
       "C 236.07 21.281608 235.785511 20.594791 235.279188 20.088468 \n",
       "C 234.772866 19.582145 234.086048 19.297656 233.37 19.297656 \n",
       "C 232.653952 19.297656 231.967134 19.582145 231.460812 20.088468 \n",
       "C 230.954489 20.594791 230.67 21.281608 230.67 21.997656 \n",
       "C 230.67 22.713705 230.954489 23.400522 231.460812 23.906845 \n",
       "C 231.967134 24.413167 232.653952 24.697656 233.37 24.697656 \n",
       "z\n",
       "\" clip-path=\"url(#pf33f1d3baa)\" style=\"fill: #ffffff; stroke: #000000; stroke-width: 2; stroke-linejoin: miter\"/>\n",
       "   </g>\n",
       "   <g id=\"text_2\">\n",
       "    <!-- $V_{out}$ -->\n",
       "    <g transform=\"translate(221.745 13.098047) scale(0.125 -0.125)\">\n",
       "     <defs>\n",
       "      <path id=\"DejaVuSans-Oblique-6f\" d=\"M 1625 -91 \n",
       "Q 1009 -91 651 289 \n",
       "Q 294 669 294 1325 \n",
       "Q 294 1706 417 2101 \n",
       "Q 541 2497 738 2766 \n",
       "Q 1047 3184 1428 3384 \n",
       "Q 1809 3584 2291 3584 \n",
       "Q 2888 3584 3255 3212 \n",
       "Q 3622 2841 3622 2241 \n",
       "Q 3622 1825 3500 1412 \n",
       "Q 3378 1000 3181 728 \n",
       "Q 2875 309 2494 109 \n",
       "Q 2113 -91 1625 -91 \n",
       "z\n",
       "M 891 1344 \n",
       "Q 891 869 1089 633 \n",
       "Q 1288 397 1691 397 \n",
       "Q 2269 397 2648 901 \n",
       "Q 3028 1406 3028 2181 \n",
       "Q 3028 2634 2825 2865 \n",
       "Q 2622 3097 2228 3097 \n",
       "Q 1903 3097 1650 2945 \n",
       "Q 1397 2794 1197 2484 \n",
       "Q 1050 2253 970 1956 \n",
       "Q 891 1659 891 1344 \n",
       "z\n",
       "\" transform=\"scale(0.015625)\"/>\n",
       "      <path id=\"DejaVuSans-Oblique-75\" d=\"M 428 1388 \n",
       "L 838 3500 \n",
       "L 1416 3500 \n",
       "L 1006 1409 \n",
       "Q 975 1256 961 1147 \n",
       "Q 947 1038 947 966 \n",
       "Q 947 700 1109 554 \n",
       "Q 1272 409 1569 409 \n",
       "Q 2031 409 2368 721 \n",
       "Q 2706 1034 2809 1563 \n",
       "L 3194 3500 \n",
       "L 3769 3500 \n",
       "L 3091 0 \n",
       "L 2516 0 \n",
       "L 2631 550 \n",
       "Q 2388 244 2052 76 \n",
       "Q 1716 -91 1338 -91 \n",
       "Q 878 -91 622 161 \n",
       "Q 366 413 366 863 \n",
       "Q 366 956 381 1097 \n",
       "Q 397 1238 428 1388 \n",
       "z\n",
       "\" transform=\"scale(0.015625)\"/>\n",
       "      <path id=\"DejaVuSans-Oblique-74\" d=\"M 2706 3500 \n",
       "L 2619 3053 \n",
       "L 1472 3053 \n",
       "L 1100 1153 \n",
       "Q 1081 1047 1072 975 \n",
       "Q 1063 903 1063 863 \n",
       "Q 1063 663 1183 572 \n",
       "Q 1303 481 1569 481 \n",
       "L 2150 481 \n",
       "L 2053 0 \n",
       "L 1503 0 \n",
       "Q 991 0 739 200 \n",
       "Q 488 400 488 806 \n",
       "Q 488 878 497 964 \n",
       "Q 506 1050 525 1153 \n",
       "L 897 3053 \n",
       "L 409 3053 \n",
       "L 500 3500 \n",
       "L 978 3500 \n",
       "L 1172 4494 \n",
       "L 1747 4494 \n",
       "L 1556 3500 \n",
       "L 2706 3500 \n",
       "z\n",
       "\" transform=\"scale(0.015625)\"/>\n",
       "     </defs>\n",
       "     <use xlink:href=\"#DejaVuSans-Oblique-56\" transform=\"translate(0 0.09375)\"/>\n",
       "     <use xlink:href=\"#DejaVuSans-Oblique-6f\" transform=\"translate(68.408203 -16.3125) scale(0.7)\"/>\n",
       "     <use xlink:href=\"#DejaVuSans-Oblique-75\" transform=\"translate(111.235352 -16.3125) scale(0.7)\"/>\n",
       "     <use xlink:href=\"#DejaVuSans-Oblique-74\" transform=\"translate(155.600586 -16.3125) scale(0.7)\"/>\n",
       "    </g>\n",
       "   </g>\n",
       "  </g>\n",
       " </g>\n",
       " <defs>\n",
       "  <clipPath id=\"pf33f1d3baa\">\n",
       "   <rect x=\"3.6\" y=\"5.995656\" width=\"243.54\" height=\"154.044\"/>\n",
       "  </clipPath>\n",
       " </defs>\n",
       "</svg>\n"
      ],
      "text/plain": [
       "<schemdraw.backends.mpl.Figure object at 0x000001EAF70F4E90>"
      ]
     },
     "metadata": {},
     "output_type": "display_data"
    }
   ],
   "source": [
    "with schemdraw.Drawing() as d:\n",
    "    elm.Dot(label='$V_{in}$',open=True)\n",
    "    R1 = elm.Resistor().dot()\n",
    "    elm.Capacitor().down()\n",
    "    elm.Ground()\n",
    "    elm.Line().right().at(R1.end)\n",
    "    elm.Dot(open=True,label='$V_{out}$')\n",
    "\n"
   ]
  },
  {
   "cell_type": "markdown",
   "metadata": {},
   "source": [
    "## Worksheet 15-c"
   ]
  },
  {
   "cell_type": "markdown",
   "metadata": {},
   "source": [
    "### Find the voltage across each component"
   ]
  },
  {
   "cell_type": "code",
   "execution_count": 4,
   "metadata": {},
   "outputs": [
    {
     "name": "stdout",
     "output_type": "stream",
     "text": [
      "12.566370614359172j\n",
      "-15.915494309189537j\n",
      "-79.57747154594767j\n"
     ]
    }
   ],
   "source": [
    "L1 = 1*si.m\n",
    "C1 = 5*si.u\n",
    "C2 = 1*si.u\n",
    "R2 = 2*si.k\n",
    "f = 2*si.k\n",
    "\n",
    "Xl1 = get_inductive_reactance(L1,f)\n",
    "Xc1 = get_capacitive_reactance(C1,f)\n",
    "Xc2 = get_capacitive_reactance(C2,f)\n",
    "\n",
    "print(Xl1)\n",
    "print(Xc1)\n",
    "print(Xc2)"
   ]
  },
  {
   "cell_type": "code",
   "execution_count": 6,
   "metadata": {},
   "outputs": [
    {
     "data": {
      "text/plain": [
       "(0.12636340553202666-3.3430902866454577j)"
      ]
     },
     "execution_count": 6,
     "metadata": {},
     "output_type": "execute_result"
    }
   ],
   "source": [
    "# L1 + (C1||(R2+C2))\n",
    "\n",
    "Ztotal = Xl1+recipsumrecip([Xc1,sum([R2,Xc2])])\n",
    "Ztotal"
   ]
  },
  {
   "cell_type": "code",
   "execution_count": 7,
   "metadata": {},
   "outputs": [
    {
     "data": {
      "text/plain": [
       "(3.34547760042133, -87.8353427101138)"
      ]
     },
     "execution_count": 7,
     "metadata": {},
     "output_type": "execute_result"
    }
   ],
   "source": [
    "polar_format(Ztotal)"
   ]
  },
  {
   "cell_type": "code",
   "execution_count": 8,
   "metadata": {},
   "outputs": [
    {
     "data": {
      "text/plain": [
       "(0.16935433895026417+4.480465235660305j)"
      ]
     },
     "execution_count": 8,
     "metadata": {},
     "output_type": "execute_result"
    }
   ],
   "source": [
    "voltage_in = 15\n",
    "\n",
    "current_total = voltage_in/Ztotal\n",
    "current_total"
   ]
  },
  {
   "cell_type": "code",
   "execution_count": 10,
   "metadata": {},
   "outputs": [
    {
     "data": {
      "text/plain": [
       "(56.34339300064314, 177.8353427101138)"
      ]
     },
     "execution_count": 10,
     "metadata": {},
     "output_type": "execute_result"
    }
   ],
   "source": [
    "Vl1 = current_total * Xl1\n",
    "polar_format(Vl1)   "
   ]
  },
  {
   "cell_type": "code",
   "execution_count": 12,
   "metadata": {},
   "outputs": [
    {
     "data": {
      "text/plain": [
       "(71.3349390909301, -1.7095860826523859)"
      ]
     },
     "execution_count": 12,
     "metadata": {},
     "output_type": "execute_result"
    }
   ],
   "source": [
    "voltage_off_l1 = voltage_in-Vl1\n",
    "Vc1 = voltage_off_l1\n",
    "polar_format(Vc1)"
   ]
  },
  {
   "cell_type": "code",
   "execution_count": 18,
   "metadata": {},
   "outputs": [
    {
     "data": {
      "text/plain": [
       "(71.27853932641943, 0.5689386459696103)"
      ]
     },
     "execution_count": 18,
     "metadata": {},
     "output_type": "execute_result"
    }
   ],
   "source": [
    "Z_branch1 = R2+Xc2\n",
    "\n",
    "Vr2 = voltage_off_l1*(R2/Z_branch1)\n",
    "polar_format(Vr2)"
   ]
  },
  {
   "cell_type": "code",
   "execution_count": 17,
   "metadata": {},
   "outputs": [
    {
     "data": {
      "text/plain": [
       "(2.836082967542428, -89.4310613540304)"
      ]
     },
     "execution_count": 17,
     "metadata": {},
     "output_type": "execute_result"
    }
   ],
   "source": [
    "Vc2 = voltage_off_l1*(Xc2/Z_branch1)\n",
    "polar_format(Vc2)"
   ]
  },
  {
   "cell_type": "code",
   "execution_count": null,
   "metadata": {},
   "outputs": [],
   "source": []
  }
 ],
 "metadata": {
  "kernelspec": {
   "display_name": "Python 3",
   "language": "python",
   "name": "python3"
  },
  "language_info": {
   "codemirror_mode": {
    "name": "ipython",
    "version": 3
   },
   "file_extension": ".py",
   "mimetype": "text/x-python",
   "name": "python",
   "nbconvert_exporter": "python",
   "pygments_lexer": "ipython3",
   "version": "3.12.1"
  }
 },
 "nbformat": 4,
 "nbformat_minor": 2
}
