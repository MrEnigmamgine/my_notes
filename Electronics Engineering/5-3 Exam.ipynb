{
 "cells": [
  {
   "cell_type": "code",
   "execution_count": 84,
   "metadata": {},
   "outputs": [],
   "source": [
    "import math\n",
    "import numpy as np\n",
    "import matplotlib.pyplot as plt\n",
    "\n",
    "from my_helpers import *"
   ]
  },
  {
   "cell_type": "markdown",
   "metadata": {},
   "source": [
    "# Written Exam"
   ]
  },
  {
   "cell_type": "code",
   "execution_count": 97,
   "metadata": {},
   "outputs": [
    {
     "data": {
      "text/plain": [
       "521.7391304347825"
      ]
     },
     "execution_count": 97,
     "metadata": {},
     "output_type": "execute_result"
    }
   ],
   "source": [
    "R1 = 560\n",
    "R2 = 1000\n",
    "Vt = 35\n",
    "Vr3 = 12\n",
    "Vr2 = Vt-Vr3\n",
    "Rt = R2*Vt/Vr2\n",
    "\n",
    "R3 = Rt - R2\n",
    "R3"
   ]
  },
  {
   "cell_type": "code",
   "execution_count": 98,
   "metadata": {},
   "outputs": [
    {
     "data": {
      "text/plain": [
       "784.0"
      ]
     },
     "execution_count": 98,
     "metadata": {},
     "output_type": "execute_result"
    }
   ],
   "source": [
    "Vs = 60\n",
    "Vr1 = 25\n",
    "Rt = R1*Vs/Vr1\n",
    "Rparallel = Rt - R1\n",
    "Rparallel"
   ]
  },
  {
   "cell_type": "code",
   "execution_count": 99,
   "metadata": {},
   "outputs": [
    {
     "data": {
      "text/plain": [
       "1617.1617161716176"
      ]
     },
     "execution_count": 99,
     "metadata": {},
     "output_type": "execute_result"
    }
   ],
   "source": [
    "R4 = 1/(1/Rparallel - 1/(R3+R2))\n",
    "R4"
   ]
  },
  {
   "cell_type": "code",
   "execution_count": 100,
   "metadata": {},
   "outputs": [],
   "source": [
    "branch = recipsumrecip([R3+R2,R4])"
   ]
  },
  {
   "cell_type": "code",
   "execution_count": 101,
   "metadata": {},
   "outputs": [
    {
     "data": {
      "text/plain": [
       "25.0"
      ]
     },
     "execution_count": 101,
     "metadata": {},
     "output_type": "execute_result"
    }
   ],
   "source": [
    "560/sum([R1,branch])*60"
   ]
  },
  {
   "cell_type": "code",
   "execution_count": 102,
   "metadata": {},
   "outputs": [],
   "source": [
    "import sympy\n",
    "from sympy import symbols, Eq\n",
    "\n",
    "Vx, Vt, Rx, Rt = symbols('Vx,Vt,Rx,Rt')"
   ]
  },
  {
   "cell_type": "code",
   "execution_count": 103,
   "metadata": {},
   "outputs": [
    {
     "data": {
      "text/latex": [
       "$\\displaystyle \\frac{Vx}{Vt} = \\frac{Rx}{Rt}$"
      ],
      "text/plain": [
       "Eq(Vx/Vt, Rx/Rt)"
      ]
     },
     "execution_count": 103,
     "metadata": {},
     "output_type": "execute_result"
    }
   ],
   "source": [
    "expr = Eq((Vx/Vt),Rx/Rt)\n",
    "expr"
   ]
  },
  {
   "cell_type": "code",
   "execution_count": 104,
   "metadata": {},
   "outputs": [
    {
     "data": {
      "text/plain": [
       "[Rx*Vt/Vx]"
      ]
     },
     "execution_count": 104,
     "metadata": {},
     "output_type": "execute_result"
    }
   ],
   "source": [
    "sympy.solve(expr,Rt)"
   ]
  },
  {
   "cell_type": "markdown",
   "metadata": {},
   "source": [
    "## 2"
   ]
  },
  {
   "cell_type": "code",
   "execution_count": 105,
   "metadata": {},
   "outputs": [],
   "source": [
    "C1 = .01  *si.µ #Farads\n",
    "C2 = .22  *si.µ #Farads\n",
    "C3 = .15  *si.µ #Farads\n",
    "C4 = .047 *si.µ #Farads\n",
    "C5 = .01  *si.µ #Farads\n",
    "C6 = .015 *si.µ #Farads\n",
    "# C1 + (C2||C3) + (C4 || (C5 + C6))"
   ]
  },
  {
   "cell_type": "code",
   "execution_count": 106,
   "metadata": {},
   "outputs": [
    {
     "data": {
      "text/plain": [
       "8.225671140939597e-09"
      ]
     },
     "execution_count": 106,
     "metadata": {},
     "output_type": "execute_result"
    }
   ],
   "source": [
    "def recipsumrecip(data):\n",
    "    \"\"\"Returns the reciprocal of the sum of reciprocals.\"\"\"\n",
    "    denom = 0\n",
    "    for n in data:\n",
    "        denom += 1/n\n",
    "    return 1/denom\n",
    "\n",
    "\n",
    "# C1 + (C2||C3) + (C4 || (C5 + C6))\n",
    "c56 = recipsumrecip([C5,C6])\n",
    "c23 = C2+C3\n",
    "# C1 + c23 + (C4 || c56)\n",
    "c456 = C4 + c56\n",
    "# C1 + c23 + c456\n",
    "Ctotal = recipsumrecip([C1,c23,c456])\n",
    "Ctotal"
   ]
  },
  {
   "cell_type": "code",
   "execution_count": 107,
   "metadata": {},
   "outputs": [],
   "source": [
    "def get_capacitive_reactance(capacitance,frequency):\n",
    "    period = 2*math.pi\n",
    "    omega = period*frequency\n",
    "    Xc = 1/(omega*capacitance)\n",
    "    return complex(0,-Xc)"
   ]
  },
  {
   "cell_type": "code",
   "execution_count": 108,
   "metadata": {},
   "outputs": [],
   "source": [
    "f = 300 # Hz\n",
    "Vin = 10\n",
    "\n",
    "Xc1 = get_capacitive_reactance(C1,f)\n",
    "Xc2 = get_capacitive_reactance(C2,f)\n",
    "Xc3 = get_capacitive_reactance(C3,f)\n",
    "Xc4 = get_capacitive_reactance(C4,f)\n",
    "Xc5 = get_capacitive_reactance(C5,f)\n",
    "Xc6 = get_capacitive_reactance(C6,f)"
   ]
  },
  {
   "cell_type": "code",
   "execution_count": 109,
   "metadata": {},
   "outputs": [
    {
     "name": "stdout",
     "output_type": "stream",
     "text": [
      "-88419.41282883074j\n",
      "-88419.41282883075j\n"
     ]
    }
   ],
   "source": [
    "# Sanity check\n",
    "print(Xc5+Xc6)\n",
    "print(get_capacitive_reactance(c56,f))"
   ]
  },
  {
   "cell_type": "code",
   "execution_count": 113,
   "metadata": {},
   "outputs": [
    {
     "data": {
      "text/plain": [
       "(64495.22086198853, 0.00015505024816332846)"
      ]
     },
     "execution_count": 113,
     "metadata": {},
     "output_type": "execute_result"
    }
   ],
   "source": [
    "Xtotal = get_capacitive_reactance(Ctotal,f)\n",
    "Itotal = Vin/Xtotal\n",
    "abs(Xtotal), abs(Itotal)"
   ]
  },
  {
   "cell_type": "code",
   "execution_count": 149,
   "metadata": {},
   "outputs": [
    {
     "name": "stdout",
     "output_type": "stream",
     "text": [
      "Ic1 = (-0+0.00015505024816332846j)\n",
      "Vc1 = (8.225671140939596+0j)\n",
      "Ic2 = (-0+0.0007357968431453012j)\n",
      "Vc2 = (1.7743288590604038+0j)\n",
      "Ic3 = -0.0005807465949819728j\n",
      "Vc3 = (-2.053970917225953-0j)\n",
      "Ic4 = (-0+0.0003391602283723628j)\n",
      "Vc4 = (3.828299776286357+0j)\n",
      "Ic5 = -0.0009199068233543356j\n",
      "Vc5 = (-48.802572706935166-0j)\n",
      "Ic6 = -0.0009199068233543356j\n",
      "Vc6 = (-32.53504847129012-0j)\n"
     ]
    }
   ],
   "source": [
    "Ic1 = Itotal            # All current goes through here\n",
    "Vc1 = Ic1 * Xc1         # Ohm's Law\n",
    "\n",
    "Vc2 = Vin - Vc1         # All remaining voltage available here\n",
    "Ic2 = Vc2 / Xc2         # Ohm's Law\n",
    "\n",
    "Ic3 = Ic1 - Ic2         # Some current splits off, remaing flows through C3\n",
    "Vc3 = Ic3 * Xc3         # Ohm's Law\n",
    "\n",
    "Vc4 = Vin - Vc1 - Vc3   # After the voltage drops from C1 and C3, remaing voltage is visible on C4\n",
    "Ic4 = Vc4 / Xc4         # Ohm's Law\n",
    "\n",
    "Ic5 = Ic3 - Ic4         # Some current splits off at C4, remaing flows through C5\n",
    "Ic6 = Ic5               # And also C6, since it's in series with C5\n",
    "Vc5 = Ic5 * Xc5         # Ohm's Law\n",
    "Vc6 = Ic6 * Xc6         # Ohm's Law\n",
    "\n",
    "from matplotlib.ticker import EngFormatter\n",
    "engFormat = EngFormatter()\n",
    "\n",
    "print('Ic1 =',engFormat(abs(Ic1)))\n",
    "print('Vc1 =',engFormat(abs(Vc1)))\n",
    "print('Ic2 =',engFormat(abs(Ic2)))\n",
    "print('Vc2 =',engFormat(abs(Vc2)))\n",
    "print('Ic3 =',engFormat(abs(Ic3))) # I've made a mistake. Needed to treat them as complex numbers\n",
    "print('Vc3 =',engFormat(abs(Vc3)))\n",
    "print('Ic4 =',engFormat(abs(Ic4)))\n",
    "print('Vc4 =',engFormat(abs(Vc4)))\n",
    "print('Ic5 =',engFormat(abs(Ic5)))\n",
    "print('Vc5 =',engFormat(abs(Vc5)))\n",
    "print('Ic6 =',engFormat(abs(Ic6)))\n",
    "print('Vc6 =',engFormat(abs(Vc6)))"
   ]
  },
  {
   "cell_type": "markdown",
   "metadata": {},
   "source": [
    "These numbers seem fishy.  Sanity check time."
   ]
  },
  {
   "cell_type": "code",
   "execution_count": 126,
   "metadata": {},
   "outputs": [
    {
     "name": "stdout",
     "output_type": "stream",
     "text": [
      "True\n",
      "True\n",
      "False\n",
      "(-0+0.00015505024816332846j) 0.00015505024816332843j\n"
     ]
    }
   ],
   "source": [
    "# KVL\n",
    "print( Vin == Vc1 + Vc2 )\n",
    "print( Vin == Vc1 + Vc3 + Vc4 )\n",
    "print( Vin == Vc1 + Vc3 + Vc5 + Vc6 )  \n",
    "# Something is wrong with Vc5 and Vc6, but I've spent too long on this problem. \n",
    "# Circle back if I can\n",
    "\n",
    "print(Itotal , Ic2 + Ic4 + Ic6)"
   ]
  },
  {
   "cell_type": "markdown",
   "metadata": {},
   "source": [
    "# 3"
   ]
  },
  {
   "cell_type": "code",
   "execution_count": 130,
   "metadata": {},
   "outputs": [],
   "source": [
    "def get_inductive_reactance(inductance,frequency):\n",
    "    period = 2*math.pi\n",
    "    omega = period*frequency\n",
    "    Xl = omega*inductance\n",
    "    return complex(0,Xl)"
   ]
  },
  {
   "cell_type": "code",
   "execution_count": 137,
   "metadata": {},
   "outputs": [
    {
     "data": {
      "text/plain": [
       "(94.2477796076938j, 56.548667764616276j, -0.05j)"
      ]
     },
     "execution_count": 137,
     "metadata": {},
     "output_type": "execute_result"
    }
   ],
   "source": [
    "f = 3000\n",
    "L1 = 5*si.m\n",
    "L3 = 3*si.m\n",
    "Vin = 10\n",
    "\n",
    "Xl1 = get_inductive_reactance(L1,f)\n",
    "Xl3 = get_inductive_reactance(L3,f)\n",
    "Il3 = 50*si.m*-1j\n",
    "Xl1,Xl3,Il3"
   ]
  },
  {
   "cell_type": "code",
   "execution_count": 139,
   "metadata": {},
   "outputs": [
    {
     "data": {
      "text/plain": [
       "(2.827433388230814+0j)"
      ]
     },
     "execution_count": 139,
     "metadata": {},
     "output_type": "execute_result"
    }
   ],
   "source": [
    "Vl3 = Il3*Xl3\n",
    "Vl2 = Vl3\n",
    "Vl3"
   ]
  },
  {
   "cell_type": "code",
   "execution_count": 142,
   "metadata": {},
   "outputs": [
    {
     "data": {
      "text/plain": [
       "(7.172566611769186+0j)"
      ]
     },
     "execution_count": 142,
     "metadata": {},
     "output_type": "execute_result"
    }
   ],
   "source": [
    "Vl1 = 10 - Vl3\n",
    "Vl1"
   ]
  },
  {
   "cell_type": "code",
   "execution_count": 144,
   "metadata": {},
   "outputs": [
    {
     "data": {
      "text/plain": [
       "-0.07610329539459688j"
      ]
     },
     "execution_count": 144,
     "metadata": {},
     "output_type": "execute_result"
    }
   ],
   "source": [
    "Il1 = Vl1/Xl1\n",
    "Il1"
   ]
  },
  {
   "cell_type": "code",
   "execution_count": 145,
   "metadata": {},
   "outputs": [
    {
     "data": {
      "text/plain": [
       "-0.02610329539459688j"
      ]
     },
     "execution_count": 145,
     "metadata": {},
     "output_type": "execute_result"
    }
   ],
   "source": [
    "Il2 = Il1 - Il3\n",
    "Il2"
   ]
  },
  {
   "cell_type": "code",
   "execution_count": 146,
   "metadata": {},
   "outputs": [
    {
     "data": {
      "text/plain": [
       "(-0+108.31710500491306j)"
      ]
     },
     "execution_count": 146,
     "metadata": {},
     "output_type": "execute_result"
    }
   ],
   "source": [
    "Xl2 = Vl2 / Il2\n",
    "Xl2"
   ]
  },
  {
   "cell_type": "code",
   "execution_count": 147,
   "metadata": {},
   "outputs": [
    {
     "data": {
      "text/plain": [
       "0.0057464008943119305j"
      ]
     },
     "execution_count": 147,
     "metadata": {},
     "output_type": "execute_result"
    }
   ],
   "source": [
    "L2 = Xl2/two_pi(f)\n",
    "L2"
   ]
  },
  {
   "cell_type": "markdown",
   "metadata": {},
   "source": [
    "# 5"
   ]
  },
  {
   "cell_type": "code",
   "execution_count": 152,
   "metadata": {},
   "outputs": [
    {
     "data": {
      "text/plain": [
       "-482.2877063390768j"
      ]
     },
     "execution_count": 152,
     "metadata": {},
     "output_type": "execute_result"
    }
   ],
   "source": [
    "C1 = .033*si.u\n",
    "f = 10*si.k\n",
    "Xc1 = get_capacitive_reactance(C1,f)\n",
    "Xc1"
   ]
  },
  {
   "cell_type": "code",
   "execution_count": 155,
   "metadata": {},
   "outputs": [
    {
     "data": {
      "text/plain": [
       "1111.111111111111"
      ]
     },
     "execution_count": 155,
     "metadata": {},
     "output_type": "execute_result"
    }
   ],
   "source": [
    "Itarget = 9*si.m\n",
    "Vin = 10\n",
    "Ztotal = Vin/Itarget\n",
    "Ztotal"
   ]
  },
  {
   "cell_type": "code",
   "execution_count": 159,
   "metadata": {},
   "outputs": [
    {
     "data": {
      "text/plain": [
       "-25.72542760333425"
      ]
     },
     "execution_count": 159,
     "metadata": {},
     "output_type": "execute_result"
    }
   ],
   "source": [
    "math.degrees(math.asin(Xc1.imag/Ztotal))"
   ]
  },
  {
   "cell_type": "code",
   "execution_count": 163,
   "metadata": {},
   "outputs": [
    {
     "data": {
      "text/plain": [
       "1000.9827518737575"
      ]
     },
     "execution_count": 163,
     "metadata": {},
     "output_type": "execute_result"
    }
   ],
   "source": [
    "theta = math.asin(Xc1.imag/Ztotal)\n",
    "R = Ztotal*math.cos(theta)\n",
    "R"
   ]
  },
  {
   "cell_type": "code",
   "execution_count": 164,
   "metadata": {},
   "outputs": [
    {
     "data": {
      "text/plain": [
       "1111.111111111111"
      ]
     },
     "execution_count": 164,
     "metadata": {},
     "output_type": "execute_result"
    }
   ],
   "source": [
    "math.sqrt(R**2+Xc1.imag**2)"
   ]
  },
  {
   "cell_type": "markdown",
   "metadata": {},
   "source": [
    "# 8"
   ]
  },
  {
   "cell_type": "code",
   "execution_count": 180,
   "metadata": {},
   "outputs": [
    {
     "data": {
      "text/plain": [
       "13100.170645412181"
      ]
     },
     "execution_count": 180,
     "metadata": {},
     "output_type": "execute_result"
    }
   ],
   "source": [
    "R = 56\n",
    "L = 8.2*si.m\n",
    "C = 18*si.n\n",
    "\n",
    "fc = 1/two_pi(math.sqrt(L*C))\n",
    "fc"
   ]
  },
  {
   "cell_type": "code",
   "execution_count": 181,
   "metadata": {},
   "outputs": [
    {
     "data": {
      "text/plain": [
       "674.9485577105528j"
      ]
     },
     "execution_count": 181,
     "metadata": {},
     "output_type": "execute_result"
    }
   ],
   "source": [
    "Xl = get_inductive_reactance(L, fc)\n",
    "Xl"
   ]
  },
  {
   "cell_type": "code",
   "execution_count": 182,
   "metadata": {},
   "outputs": [
    {
     "data": {
      "text/plain": [
       "12.05265281625987"
      ]
     },
     "execution_count": 182,
     "metadata": {},
     "output_type": "execute_result"
    }
   ],
   "source": [
    "Q = Xl/R\n",
    "Q = abs(Q)\n",
    "Q"
   ]
  },
  {
   "cell_type": "code",
   "execution_count": 183,
   "metadata": {},
   "outputs": [
    {
     "data": {
      "text/plain": [
       "1086.9118064812367"
      ]
     },
     "execution_count": 183,
     "metadata": {},
     "output_type": "execute_result"
    }
   ],
   "source": [
    "Bw = fc/Q\n",
    "Bw"
   ]
  },
  {
   "cell_type": "code",
   "execution_count": 184,
   "metadata": {},
   "outputs": [
    {
     "data": {
      "text/plain": [
       "(12556.714742171564, 13643.6265486528)"
      ]
     },
     "execution_count": 184,
     "metadata": {},
     "output_type": "execute_result"
    }
   ],
   "source": [
    "delta = Bw/2\n",
    "upper = fc + delta\n",
    "lower = fc - delta\n",
    "lower, upper"
   ]
  },
  {
   "cell_type": "code",
   "execution_count": null,
   "metadata": {},
   "outputs": [],
   "source": []
  }
 ],
 "metadata": {
  "kernelspec": {
   "display_name": "Python 3",
   "language": "python",
   "name": "python3"
  },
  "language_info": {
   "codemirror_mode": {
    "name": "ipython",
    "version": 3
   },
   "file_extension": ".py",
   "mimetype": "text/x-python",
   "name": "python",
   "nbconvert_exporter": "python",
   "pygments_lexer": "ipython3",
   "version": "3.10.8"
  }
 },
 "nbformat": 4,
 "nbformat_minor": 2
}
