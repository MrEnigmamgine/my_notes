{
 "cells": [
  {
   "cell_type": "code",
   "execution_count": 2,
   "metadata": {},
   "outputs": [],
   "source": [
    "import math\n",
    "import numpy as np\n",
    "import matplotlib.pyplot as plt\n",
    "\n",
    "from my_helpers import *"
   ]
  },
  {
   "cell_type": "markdown",
   "metadata": {},
   "source": [
    "## 1"
   ]
  },
  {
   "cell_type": "code",
   "execution_count": 3,
   "metadata": {},
   "outputs": [],
   "source": [
    "# For the following parallel resonant bandpass filter, find the exact center frequency of the pass band and the bandwidth. \n",
    "\n",
    "# Given:\n",
    "\n",
    "Vin = 12 \n",
    "L = 4.3 *si.µ\n",
    "C = 100 *si.p\n",
    "Rw = 9.1 \n",
    "RL = 620 "
   ]
  },
  {
   "cell_type": "code",
   "execution_count": 4,
   "metadata": {},
   "outputs": [
    {
     "data": {
      "text/plain": [
       "'7.66774 M'"
      ]
     },
     "execution_count": 4,
     "metadata": {},
     "output_type": "execute_result"
    }
   ],
   "source": [
    "# Center frequency\n",
    "engFormat(get_exact_resonant_frequency(Rw,L,C))"
   ]
  },
  {
   "cell_type": "code",
   "execution_count": 5,
   "metadata": {},
   "outputs": [
    {
     "data": {
      "text/plain": [
       "336491.7958775588"
      ]
     },
     "execution_count": 5,
     "metadata": {},
     "output_type": "execute_result"
    }
   ],
   "source": [
    "## Bandwidth\n",
    "def get_bandwidth(Rwinding,inductance,capacitance):\n",
    "    inductive_reactance = inductance/(math.sqrt(inductance*capacitance))\n",
    "    quality_factor = inductive_reactance/Rwinding\n",
    "    resonant_frequency = get_exact_resonant_frequency(Rwinding,inductance,capacitance)\n",
    "    bandwidth = resonant_frequency/quality_factor\n",
    "    return bandwidth\n",
    "\n",
    "get_bandwidth(Rw,L,C)"
   ]
  },
  {
   "cell_type": "markdown",
   "metadata": {},
   "source": []
  },
  {
   "cell_type": "code",
   "execution_count": 6,
   "metadata": {},
   "outputs": [],
   "source": [
    "# Minimum Output Voltage:\n",
    "\n",
    "# Zr = Rw(Q2 + 1)\n",
    "# Vout(min) = (RLoad / (Zr + RLoad)) * Vin\n",
    "\n"
   ]
  },
  {
   "cell_type": "markdown",
   "metadata": {},
   "source": [
    "## 1 (attempt 2)"
   ]
  },
  {
   "cell_type": "code",
   "execution_count": 7,
   "metadata": {},
   "outputs": [
    {
     "data": {
      "text/plain": [
       "2578.768317973465"
      ]
     },
     "execution_count": 7,
     "metadata": {},
     "output_type": "execute_result"
    }
   ],
   "source": [
    "L = 56*si.m\n",
    "C = 68*si.n\n",
    "Rw = 15\n",
    "\n",
    "get_exact_resonant_frequency(Rw,L,C)"
   ]
  },
  {
   "cell_type": "code",
   "execution_count": 8,
   "metadata": {},
   "outputs": [
    {
     "data": {
      "text/plain": [
       "42.624964260163175"
      ]
     },
     "execution_count": 8,
     "metadata": {},
     "output_type": "execute_result"
    }
   ],
   "source": [
    "get_bandwidth(Rw,L,C)"
   ]
  },
  {
   "cell_type": "code",
   "execution_count": null,
   "metadata": {},
   "outputs": [],
   "source": []
  }
 ],
 "metadata": {
  "kernelspec": {
   "display_name": "Python 3",
   "language": "python",
   "name": "python3"
  },
  "language_info": {
   "codemirror_mode": {
    "name": "ipython",
    "version": 3
   },
   "file_extension": ".py",
   "mimetype": "text/x-python",
   "name": "python",
   "nbconvert_exporter": "python",
   "pygments_lexer": "ipython3",
   "version": "3.12.1"
  }
 },
 "nbformat": 4,
 "nbformat_minor": 2
}
