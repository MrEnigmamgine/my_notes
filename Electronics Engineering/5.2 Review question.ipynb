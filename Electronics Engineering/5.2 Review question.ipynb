{
 "cells": [
  {
   "cell_type": "code",
   "execution_count": 59,
   "metadata": {},
   "outputs": [],
   "source": [
    "import math\n",
    "import numpy as np\n",
    "import matplotlib.pyplot as plt\n",
    "\n",
    "from my_helpers import *"
   ]
  },
  {
   "cell_type": "markdown",
   "metadata": {},
   "source": [
    "## 1"
   ]
  },
  {
   "cell_type": "code",
   "execution_count": 60,
   "metadata": {},
   "outputs": [],
   "source": [
    "# For the following parallel resonant bandpass filter, find the exact center frequency of the pass band and the bandwidth. \n",
    "\n",
    "# Given:\n",
    "\n",
    "Vin = 12 \n",
    "L = 4.3 *si.µ\n",
    "C = 100 *si.p\n",
    "Rw = 9.1 \n",
    "RL = 620 "
   ]
  },
  {
   "cell_type": "code",
   "execution_count": 61,
   "metadata": {},
   "outputs": [
    {
     "data": {
      "text/plain": [
       "'7.66774 M'"
      ]
     },
     "execution_count": 61,
     "metadata": {},
     "output_type": "execute_result"
    }
   ],
   "source": [
    "# Center frequency\n",
    "engFormat(get_exact_resonant_frequency(Rw,L,C))"
   ]
  },
  {
   "cell_type": "code",
   "execution_count": 62,
   "metadata": {},
   "outputs": [
    {
     "data": {
      "text/plain": [
       "336491.7958775588"
      ]
     },
     "execution_count": 62,
     "metadata": {},
     "output_type": "execute_result"
    }
   ],
   "source": [
    "## Bandwidth\n",
    "def get_bandwidth(Rwinding,inductance,capacitance):\n",
    "    inductive_reactance = inductance/(math.sqrt(inductance*capacitance))\n",
    "    quality_factor = inductive_reactance/Rwinding\n",
    "    resonant_frequency = get_exact_resonant_frequency(Rwinding,inductance,capacitance)\n",
    "    bandwidth = resonant_frequency/quality_factor\n",
    "    return bandwidth\n",
    "\n",
    "get_bandwidth(Rw,L,C)"
   ]
  },
  {
   "cell_type": "markdown",
   "metadata": {},
   "source": []
  },
  {
   "cell_type": "code",
   "execution_count": 63,
   "metadata": {},
   "outputs": [],
   "source": [
    "# Minimum Output Voltage:\n",
    "\n",
    "# Zr = Rw(Q2 + 1)\n",
    "# Vout(min) = (RLoad / (Zr + RLoad)) * Vin\n",
    "\n"
   ]
  },
  {
   "cell_type": "markdown",
   "metadata": {},
   "source": [
    "## 1 (attempt 2)"
   ]
  },
  {
   "cell_type": "code",
   "execution_count": 64,
   "metadata": {},
   "outputs": [],
   "source": [
    "R=3*si.k\n",
    "L=3.6*si.m\n",
    "V = 10"
   ]
  },
  {
   "cell_type": "code",
   "execution_count": 65,
   "metadata": {},
   "outputs": [
    {
     "data": {
      "text/plain": [
       "'132.629 k'"
      ]
     },
     "execution_count": 65,
     "metadata": {},
     "output_type": "execute_result"
    }
   ],
   "source": [
    "def get_cutoff_freq_inductive(inductance,resistance):\n",
    "    return resistance/two_pi(inductance)\n",
    "\n",
    "engFormat(get_cutoff_freq_inductive(L,R))"
   ]
  },
  {
   "cell_type": "code",
   "execution_count": 66,
   "metadata": {},
   "outputs": [
    {
     "data": {
      "text/plain": [
       "'132.629 k'"
      ]
     },
     "execution_count": 66,
     "metadata": {},
     "output_type": "execute_result"
    }
   ],
   "source": [
    "def get_cutoff_freq_inductive(inductance,resistance):\n",
    "    return 1/two_pi(inductance/resistance)\n",
    "engFormat(get_cutoff_freq_inductive(L,R))"
   ]
  },
  {
   "cell_type": "markdown",
   "metadata": {},
   "source": [
    "## 2"
   ]
  },
  {
   "cell_type": "code",
   "execution_count": 67,
   "metadata": {},
   "outputs": [
    {
     "data": {
      "text/plain": [
       "('129.184 k', 1.414213562373095)"
      ]
     },
     "execution_count": 67,
     "metadata": {},
     "output_type": "execute_result"
    }
   ],
   "source": [
    "R = 220\n",
    "C = 5.6 *si.n\n",
    "V = 2 \n",
    "\n",
    "fc = get_cutoff_freq_capacitive(C,R)\n",
    "engFormat(fc), over_sqrt_2(V)"
   ]
  },
  {
   "cell_type": "markdown",
   "metadata": {},
   "source": [
    "## 3"
   ]
  },
  {
   "cell_type": "code",
   "execution_count": 68,
   "metadata": {},
   "outputs": [
    {
     "data": {
      "text/plain": [
       "3.031914893617021"
      ]
     },
     "execution_count": 68,
     "metadata": {},
     "output_type": "execute_result"
    }
   ],
   "source": [
    "190*(.75/47)"
   ]
  },
  {
   "cell_type": "code",
   "execution_count": 69,
   "metadata": {},
   "outputs": [
    {
     "data": {
      "text/plain": [
       "14308.262754502606"
      ]
     },
     "execution_count": 69,
     "metadata": {},
     "output_type": "execute_result"
    }
   ],
   "source": [
    "Rw = 0.75\n",
    "R = 47\n",
    "L = 5.1 *si.m\n",
    "C = 0.024 *si.µ\n",
    "\n",
    "get_exact_resonant_frequency(Rw+R,L,C)"
   ]
  },
  {
   "cell_type": "code",
   "execution_count": 70,
   "metadata": {},
   "outputs": [
    {
     "data": {
      "text/plain": [
       "(14308.262754502606, 611.3299709104186)"
      ]
     },
     "execution_count": 70,
     "metadata": {},
     "output_type": "execute_result"
    }
   ],
   "source": [
    "resonant_frequency = get_exact_resonant_frequency(Rw+R,L,C)\n",
    "inductive_reactance= get_inductive_reactance(L,resonant_frequency)\n",
    "quality_factor = abs(inductive_reactance)/Rw\n",
    "bandwidth = resonant_frequency/quality_factor\n",
    "\n",
    "resonant_frequency, quality_factor"
   ]
  },
  {
   "cell_type": "code",
   "execution_count": 71,
   "metadata": {},
   "outputs": [
    {
     "data": {
      "text/plain": [
       "23.40513868998461"
      ]
     },
     "execution_count": 71,
     "metadata": {},
     "output_type": "execute_result"
    }
   ],
   "source": [
    "## Bandwidth\n",
    "def get_bandwidth(Rwinding,inductance,capacitance):\n",
    "    resonant_frequency = get_exact_resonant_frequency(Rwinding,inductance,capacitance)\n",
    "    inductive_reactance= get_inductive_reactance(inductance,resonant_frequency)\n",
    "    quality_factor = abs(inductive_reactance)/Rwinding\n",
    "    bandwidth = resonant_frequency/quality_factor\n",
    "    return bandwidth\n",
    "\n",
    "get_bandwidth(Rw,L,C)"
   ]
  },
  {
   "cell_type": "code",
   "execution_count": 72,
   "metadata": {},
   "outputs": [
    {
     "data": {
      "text/plain": [
       "23.40510771257467"
      ]
     },
     "execution_count": 72,
     "metadata": {},
     "output_type": "execute_result"
    }
   ],
   "source": [
    "## Bandwidth\n",
    "def get_bandwidth(Rwinding,inductance,capacitance):\n",
    "    inductive_reactance = inductance/(math.sqrt(inductance*capacitance))\n",
    "    quality_factor = inductive_reactance/Rwinding\n",
    "    resonant_frequency = get_exact_resonant_frequency(Rwinding,inductance,capacitance)\n",
    "    bandwidth = resonant_frequency/quality_factor\n",
    "    return bandwidth\n",
    "\n",
    "get_bandwidth(Rw,L,C)"
   ]
  },
  {
   "cell_type": "markdown",
   "metadata": {},
   "source": [
    "## 4\n",
    "At a certain frequency, the output voltage of a filter is Vout = 3.85 V and the input voltage is Vin = 7 V. Express the voltage ratio (Vout/Vin) in decibels."
   ]
  },
  {
   "cell_type": "code",
   "execution_count": 73,
   "metadata": {},
   "outputs": [
    {
     "data": {
      "text/plain": [
       "-5.192746210115122"
      ]
     },
     "execution_count": 73,
     "metadata": {},
     "output_type": "execute_result"
    }
   ],
   "source": [
    "Vin = 7\n",
    "Vout = 3.85\n",
    "20*math.log10(Vout/Vin)"
   ]
  },
  {
   "cell_type": "code",
   "execution_count": 74,
   "metadata": {},
   "outputs": [
    {
     "data": {
      "text/plain": [
       "0.55"
      ]
     },
     "execution_count": 74,
     "metadata": {},
     "output_type": "execute_result"
    }
   ],
   "source": [
    "Vout/Vin"
   ]
  },
  {
   "cell_type": "code",
   "execution_count": 75,
   "metadata": {},
   "outputs": [
    {
     "data": {
      "text/plain": [
       "-0.2596373105057561"
      ]
     },
     "execution_count": 75,
     "metadata": {},
     "output_type": "execute_result"
    }
   ],
   "source": [
    "math.log10(Vout/Vin)"
   ]
  },
  {
   "cell_type": "code",
   "execution_count": null,
   "metadata": {},
   "outputs": [],
   "source": []
  },
  {
   "cell_type": "code",
   "execution_count": 76,
   "metadata": {},
   "outputs": [
    {
     "data": {
      "text/plain": [
       "0.55"
      ]
     },
     "execution_count": 76,
     "metadata": {},
     "output_type": "execute_result"
    }
   ],
   "source": [
    "10**math.log10(Vout/Vin)"
   ]
  },
  {
   "cell_type": "markdown",
   "metadata": {},
   "source": [
    "### I needed to use `log10()` instead of `log()`, which by default returns $\\log_e()$"
   ]
  },
  {
   "cell_type": "markdown",
   "metadata": {},
   "source": [
    "## 4 (2)"
   ]
  },
  {
   "cell_type": "code",
   "execution_count": 77,
   "metadata": {},
   "outputs": [],
   "source": [
    "# For the following series resonant bandpass filter, find the center frequency of the pass band, the bandwidth, and the output voltage at the center frequency.\n",
    "\n",
    "# Given:\n",
    "\n",
    "Vin =100 *si.m#V\n",
    "Rw = 0.91 #Ω\n",
    "R = 47 #Ω\n",
    "L = 5.6 *si.m#H\n",
    "C = 0.024 *si.µ#F"
   ]
  },
  {
   "cell_type": "code",
   "execution_count": 78,
   "metadata": {},
   "outputs": [
    {
     "data": {
      "text/plain": [
       "13660.725987319514"
      ]
     },
     "execution_count": 78,
     "metadata": {},
     "output_type": "execute_result"
    }
   ],
   "source": [
    "get_exact_resonant_frequency(Rw+R,L,C)"
   ]
  },
  {
   "cell_type": "code",
   "execution_count": 79,
   "metadata": {},
   "outputs": [
    {
     "data": {
      "text/plain": [
       "25.862632359069714"
      ]
     },
     "execution_count": 79,
     "metadata": {},
     "output_type": "execute_result"
    }
   ],
   "source": [
    "get_bandwidth(Rw,L,C)"
   ]
  },
  {
   "cell_type": "code",
   "execution_count": 80,
   "metadata": {},
   "outputs": [
    {
     "data": {
      "text/plain": [
       "1.89939469839282"
      ]
     },
     "execution_count": 80,
     "metadata": {},
     "output_type": "execute_result"
    }
   ],
   "source": [
    "100*(Rw/sum([Rw,R]))"
   ]
  },
  {
   "cell_type": "markdown",
   "metadata": {},
   "source": [
    "## 5"
   ]
  },
  {
   "cell_type": "code",
   "execution_count": 81,
   "metadata": {},
   "outputs": [
    {
     "data": {
      "text/plain": [
       "2.1213203435596424"
      ]
     },
     "execution_count": 81,
     "metadata": {},
     "output_type": "execute_result"
    }
   ],
   "source": [
    "# Find the cutoff frequency of the following RC Low pass filter. Also, find the output voltage at the cutoff frequency.\n",
    "\n",
    "# Given:\n",
    "\n",
    "R = 150 \n",
    "C = 3.6 *si.n\n",
    "Vin = 3 \n",
    "\n",
    "engFormat(get_cutoff_freq_capacitive(C,R))\n",
    "over_sqrt_2(Vin)"
   ]
  },
  {
   "cell_type": "markdown",
   "metadata": {},
   "source": [
    "## 6"
   ]
  },
  {
   "cell_type": "code",
   "execution_count": 82,
   "metadata": {},
   "outputs": [
    {
     "data": {
      "text/plain": [
       "2814.933325855268"
      ]
     },
     "execution_count": 82,
     "metadata": {},
     "output_type": "execute_result"
    }
   ],
   "source": [
    "# For the following parallel resonant band-stop filter, find the exact center frequency of the stop band and the bandwidth. \n",
    "\n",
    "# Given:\n",
    "\n",
    "# Vin = 12 V\n",
    "L = 68 *si.m\n",
    "C = 0.047 *si.u\n",
    "Rw = 18\n",
    "\n",
    "get_exact_resonant_frequency(Rw,L,C)"
   ]
  },
  {
   "cell_type": "code",
   "execution_count": 83,
   "metadata": {},
   "outputs": [
    {
     "data": {
      "text/plain": [
       "42.124532140982495"
      ]
     },
     "execution_count": 83,
     "metadata": {},
     "output_type": "execute_result"
    }
   ],
   "source": [
    "get_bandwidth(Rw,L,C)"
   ]
  },
  {
   "cell_type": "markdown",
   "metadata": {},
   "source": [
    "## 7"
   ]
  },
  {
   "cell_type": "code",
   "execution_count": 84,
   "metadata": {},
   "outputs": [],
   "source": [
    "Rw = 12 \n",
    "RLoad = 130 \n",
    "L = 1.8*si.m\n",
    "C = 27*si.p"
   ]
  },
  {
   "cell_type": "code",
   "execution_count": 85,
   "metadata": {},
   "outputs": [
    {
     "data": {
      "text/plain": [
       "721940.7029265518"
      ]
     },
     "execution_count": 85,
     "metadata": {},
     "output_type": "execute_result"
    }
   ],
   "source": [
    "get_exact_resonant_frequency(Rw,L,C)"
   ]
  },
  {
   "cell_type": "code",
   "execution_count": 86,
   "metadata": {},
   "outputs": [
    {
     "data": {
      "text/plain": [
       "12553.657701268337"
      ]
     },
     "execution_count": 86,
     "metadata": {},
     "output_type": "execute_result"
    }
   ],
   "source": [
    "get_bandwidth(Rw+RLoad,L,C)"
   ]
  },
  {
   "cell_type": "markdown",
   "metadata": {},
   "source": [
    "## 7 (2)"
   ]
  },
  {
   "cell_type": "code",
   "execution_count": 87,
   "metadata": {},
   "outputs": [],
   "source": [
    "# For the following parallel resonant bandpass filter, find the exact center frequency of the pass band and the bandwidth. \n",
    "\n",
    "# Given:\n",
    "\n",
    "Vin = 10 #V\n",
    "L = 5.6*si.µ#H\n",
    "C = 180*si.p#F\n",
    "Rw = 6.8 #Ω\n",
    "RL = 750 #Ω\n",
    "\n",
    "# Center Frequency:\n",
    "# Bandwidth:\n",
    "# Maximum Output Voltage:\n",
    "# Minimum Output Voltage:"
   ]
  },
  {
   "cell_type": "code",
   "execution_count": 88,
   "metadata": {},
   "outputs": [
    {
     "data": {
      "text/plain": [
       "('5.00918 M', '193.116 k')"
      ]
     },
     "execution_count": 88,
     "metadata": {},
     "output_type": "execute_result"
    }
   ],
   "source": [
    "fc = get_exact_resonant_frequency(Rw,L,C)\n",
    "bw = get_bandwidth(Rw,L,C)\n",
    "engFormat(fc), engFormat(bw)"
   ]
  },
  {
   "cell_type": "code",
   "execution_count": 91,
   "metadata": {},
   "outputs": [
    {
     "data": {
      "text/plain": [
       "(4575.16339869281+0j)"
      ]
     },
     "execution_count": 91,
     "metadata": {},
     "output_type": "execute_result"
    }
   ],
   "source": [
    "def get_tank_impedance(Rwinding,inductance,capacitance,frequency=False):\n",
    "    if not frequency:\n",
    "        frequency = get_exact_resonant_frequency(Rwinding,inductance,capacitance)\n",
    "    Xl = get_inductive_reactance(inductance,frequency)\n",
    "    Xc = get_capacitive_reactance(capacitance,frequency)\n",
    "    Z = recipsumrecip([Xc,sum([Xl,Rwinding])])\n",
    "    return Z\n",
    "\n",
    "Ztank = get_tank_impedance(Rw,L,C)\n",
    "Ztank"
   ]
  },
  {
   "cell_type": "code",
   "execution_count": 94,
   "metadata": {},
   "outputs": [
    {
     "data": {
      "text/plain": [
       "0.140840748695919"
      ]
     },
     "execution_count": 94,
     "metadata": {},
     "output_type": "execute_result"
    }
   ],
   "source": [
    "# minimum output voltage\n",
    "Vin*(RL/sum([Ztank,RL]))\n",
    "RL/sum([abs(Ztank),RL])"
   ]
  },
  {
   "cell_type": "code",
   "execution_count": 101,
   "metadata": {},
   "outputs": [
    {
     "name": "stdout",
     "output_type": "stream",
     "text": [
      "9.910147991541564\n"
     ]
    },
    {
     "data": {
      "text/plain": [
       "9.91014799154334"
      ]
     },
     "execution_count": 101,
     "metadata": {},
     "output_type": "execute_result"
    },
    {
     "data": {
      "image/png": "[encoded data removed]",
      "text/plain": [
       "<Figure size 640x480 with 1 Axes>"
      ]
     },
     "metadata": {},
     "output_type": "display_data"
    }
   ],
   "source": [
    "# max output voltage\n",
    "freqs = np.linspace(10,6*si.M,1000)\n",
    "voltages = []\n",
    "\n",
    "for freq in freqs:\n",
    "    Ztank = get_tank_impedance(Rw,L,C,freq)\n",
    "    Vout = abs(Vin*(RL/sum([Ztank,RL])))\n",
    "    voltages.append(Vout)\n",
    "\n",
    "plt.plot(freqs,voltages)\n",
    "print(max(voltages))\n",
    "Vin*(750/(750+6.8))"
   ]
  },
  {
   "cell_type": "markdown",
   "metadata": {},
   "source": [
    "## 8"
   ]
  },
  {
   "cell_type": "code",
   "execution_count": 103,
   "metadata": {},
   "outputs": [
    {
     "data": {
      "text/plain": [
       "(93787.73432200975, 93787.73432200975)"
      ]
     },
     "execution_count": 103,
     "metadata": {},
     "output_type": "execute_result"
    }
   ],
   "source": [
    "# Find the cutoff frequency of the following RL High pass filter. Also, find the output voltage at the cutoff frequency.\n",
    "\n",
    "# Given:\n",
    "\n",
    "R = 3.3 *si.k#Ω\n",
    "L = 5.6 *si.m#H\n",
    "Vin = 8 #V\n",
    "\n",
    "R/two_pi(L), get_cutoff_freq_inductive(L,R)"
   ]
  },
  {
   "cell_type": "code",
   "execution_count": 104,
   "metadata": {},
   "outputs": [
    {
     "data": {
      "text/plain": [
       "5.65685424949238"
      ]
     },
     "execution_count": 104,
     "metadata": {},
     "output_type": "execute_result"
    }
   ],
   "source": [
    "over_sqrt_2(Vin)"
   ]
  },
  {
   "cell_type": "markdown",
   "metadata": {},
   "source": [
    "## 9"
   ]
  },
  {
   "cell_type": "markdown",
   "metadata": {},
   "source": [
    "At a certain frequency, the output voltage of a filter is Vout = 7.8 V and the input voltage is Vin = 12 V. Express the voltage ratio (Vout/Vin) in decibels.\n",
    "\n"
   ]
  },
  {
   "cell_type": "code",
   "execution_count": 106,
   "metadata": {},
   "outputs": [
    {
     "data": {
      "text/plain": [
       "-3.7417328671428884"
      ]
     },
     "execution_count": 106,
     "metadata": {},
     "output_type": "execute_result"
    }
   ],
   "source": [
    "Vin = 12\n",
    "Vout = 7.8\n",
    "\n",
    "20*math.log10(Vout/Vin)"
   ]
  }
 ],
 "metadata": {
  "kernelspec": {
   "display_name": "Python 3",
   "language": "python",
   "name": "python3"
  },
  "language_info": {
   "codemirror_mode": {
    "name": "ipython",
    "version": 3
   },
   "file_extension": ".py",
   "mimetype": "text/x-python",
   "name": "python",
   "nbconvert_exporter": "python",
   "pygments_lexer": "ipython3",
   "version": "3.10.8"
  }
 },
 "nbformat": 4,
 "nbformat_minor": 2
}
